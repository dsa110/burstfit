{
 "cells": [
  {
   "cell_type": "markdown",
   "metadata": {},
   "source": [
    "# Saving fit results using BurstIO class"
   ]
  },
  {
   "cell_type": "code",
   "execution_count": 1,
   "metadata": {},
   "outputs": [],
   "source": [
    "from burstfit.fit import BurstFit\n",
    "from burstfit.data import BurstData\n",
    "from burstfit.model import Model, SgramModel\n",
    "from burstfit.utils.plotter import plot_me\n",
    "from burstfit.utils.functions import pulse_fn_vec, sgram_fn_vec, gauss_norm\n",
    "from burstfit.io import BurstIO\n",
    "import logging"
   ]
  },
  {
   "cell_type": "code",
   "execution_count": 2,
   "metadata": {},
   "outputs": [],
   "source": [
    "logging_format = \"%(asctime)s - %(funcName)s -%(name)s - %(levelname)s - %(message)s\"\n",
    "logging.basicConfig(\n",
    "    level=logging.INFO,\n",
    "    format=logging_format,\n",
    ")"
   ]
  },
  {
   "cell_type": "markdown",
   "metadata": {},
   "source": [
    "Let's quickly do a fitting using BurstData and BurstFit classes. "
   ]
  },
  {
   "cell_type": "markdown",
   "metadata": {},
   "source": [
    "## Burst Fitting"
   ]
  },
  {
   "cell_type": "markdown",
   "metadata": {},
   "source": [
    "Get data and preprocess"
   ]
  },
  {
   "cell_type": "code",
   "execution_count": 3,
   "metadata": {},
   "outputs": [],
   "source": [
    "fil_file = '../tests/data/tcand_2_dm_565.30000_snr_11.92560.fil'"
   ]
  },
  {
   "cell_type": "code",
   "execution_count": 4,
   "metadata": {},
   "outputs": [],
   "source": [
    "bd = BurstData(\n",
    "    fp=fil_file,\n",
    "    dm=565.3,\n",
    "    tcand=2,\n",
    "    width=64,\n",
    "    snr=11.9,\n",
    "    min_samp=256,\n",
    ")"
   ]
  },
  {
   "cell_type": "code",
   "execution_count": 5,
   "metadata": {},
   "outputs": [
    {
     "name": "stderr",
     "output_type": "stream",
     "text": [
      "2021-03-18 19:54:15,367 - prepare_data -burstfit.data - INFO - Preparing data for burst fitting.\n",
      "2021-03-18 19:54:15,415 - crop_dedispersed_data -burstfit.data - INFO - Cropping data with time_window: 0.2s.\n",
      "2021-03-18 19:54:15,416 - normalise_data -burstfit.data - INFO - Normalising data using off pulse mean and std.\n",
      "2021-03-18 19:54:15,527 - normalise_data -burstfit.data - INFO - Off pulse mean and std are: (128.00148285380777, 19.999437514831243)\n"
     ]
    },
    {
     "data": {
      "text/plain": [
       "Using <class 'str'>:\n",
       "../tests/data/tcand_2_dm_565.30000_snr_11.92560.fil"
      ]
     },
     "execution_count": 5,
     "metadata": {},
     "output_type": "execute_result"
    }
   ],
   "source": [
    "bd.prepare_data(mask_chans=[(53, 64)])"
   ]
  },
  {
   "cell_type": "markdown",
   "metadata": {},
   "source": [
    "Setting up BurstFit:"
   ]
  },
  {
   "cell_type": "code",
   "execution_count": 6,
   "metadata": {},
   "outputs": [],
   "source": [
    "pnames = ['S', 'mu_t', 'sigma_t', 'tau']\n",
    "pulseModel = Model(pulse_fn_vec, param_names=pnames)\n",
    "snames = ['mu_f', 'sigma_f']\n",
    "spectraModel = Model(gauss_norm, param_names=snames)"
   ]
  },
  {
   "cell_type": "code",
   "execution_count": 7,
   "metadata": {},
   "outputs": [],
   "source": [
    "sgramModel = SgramModel(pulseModel, spectraModel, sgram_fn_vec, \n",
    "                        mask=bd.mask, clip_fac=bd.clip_fac)"
   ]
  },
  {
   "cell_type": "code",
   "execution_count": 8,
   "metadata": {},
   "outputs": [],
   "source": [
    "bf = BurstFit(\n",
    "    sgram_model=sgramModel,\n",
    "    sgram=bd.sgram,\n",
    "    width=bd.width,\n",
    "    dm=bd.dm,\n",
    "    foff=bd.foff,\n",
    "    fch1=bd.fch1,\n",
    "    tsamp=bd.tsamp,\n",
    "    clip_fac=bd.clip_fac,\n",
    "    mask=bd.mask) "
   ]
  },
  {
   "cell_type": "markdown",
   "metadata": {},
   "source": [
    "Fitting ...."
   ]
  },
  {
   "cell_type": "code",
   "execution_count": 9,
   "metadata": {
    "scrolled": false
   },
   "outputs": [
    {
     "name": "stderr",
     "output_type": "stream",
     "text": [
      "2021-03-18 19:54:15,810 - run_tests -burstfit.fit - INFO - Running statistical tests on the residual.\n",
      "2021-03-18 19:54:15,811 - run_tests -burstfit.fit - INFO - Running off pulse - off pulse test\n",
      "2021-03-18 19:54:15,828 - tests -root - INFO - P values: T-test (0.60679), Kruskal (0.70429), KS (0.87426), F-test (0.61511)\n",
      "2021-03-18 19:54:15,829 - run_tests -burstfit.fit - INFO - Running on pulse - off pulse (L) test\n",
      "2021-03-18 19:54:15,845 - tests -root - INFO - P values: T-test (0.00000), Kruskal (0.00000), KS (0.00000), F-test (0.00044)\n",
      "2021-03-18 19:54:15,846 - run_tests -burstfit.fit - INFO - Running on pulse - off pulse (R) test\n",
      "2021-03-18 19:54:15,864 - tests -root - INFO - P values: T-test (0.00000), Kruskal (0.00000), KS (0.00001), F-test (0.00015)\n",
      "2021-03-18 19:54:15,865 - fitcycle -burstfit.fit - INFO - Fitting component 1.\n",
      "2021-03-18 19:54:15,868 - initial_profilefit -burstfit.fit - INFO - Running initial profile fit for component: 1\n",
      "2021-03-18 19:54:15,963 - initial_profilefit -burstfit.fit - INFO - Converged parameters (profile fit) are:\n",
      "2021-03-18 19:54:15,964 - initial_profilefit -burstfit.fit - INFO - S: 763.9470222396869 +- 76.47155802814272\n",
      "2021-03-18 19:54:15,964 - initial_profilefit -burstfit.fit - INFO - mu_t: 1202.832588161036 +- 3.3843576775928397\n",
      "2021-03-18 19:54:15,965 - initial_profilefit -burstfit.fit - INFO - sigma_t: 11.487928835362144 +- 2.863860070777841\n",
      "2021-03-18 19:54:15,966 - initial_profilefit -burstfit.fit - INFO - tau: 15.684895946500633 +- 6.35034474880263\n",
      "2021-03-18 19:54:15,966 - make_spectra -burstfit.fit - INFO - Making spectra using profile fit parameters.\n",
      "2021-03-18 19:54:15,969 - initial_spectrafit -burstfit.fit - INFO - Running spectra profile fit for component: 1\n",
      "2021-03-18 19:54:15,983 - initial_spectrafit -burstfit.fit - INFO - Converged parameters (spectra fit) are:\n",
      "2021-03-18 19:54:15,983 - initial_spectrafit -burstfit.fit - INFO - mu_f: 24.478044459914074 +- 0.40858355670038715\n",
      "2021-03-18 19:54:15,984 - initial_spectrafit -burstfit.fit - INFO - sigma_f: 5.876907075384988 +- 0.3336071378032658\n",
      "2021-03-18 19:54:15,985 - sgram_fit -burstfit.fit - INFO - Running sgram profile fit for component: 1\n",
      "2021-03-18 19:54:15,985 - sgram_fit -burstfit.fit - INFO - initial estimate for parameters: [24.478044459914074, 5.876907075384988, 763.9470222396869, 1202.832588161036, 11.487928835362144, 15.684895946500633, 565.3]\n",
      "2021-03-18 19:54:16,690 - sgram_fit -burstfit.fit - INFO - Converged parameters are:\n",
      "2021-03-18 19:54:16,690 - sgram_fit -burstfit.fit - INFO - mu_f: 24.975849003327195 +- 0.3914311686459791\n",
      "2021-03-18 19:54:16,691 - sgram_fit -burstfit.fit - INFO - sigma_f: 6.166294966919394 +- 0.3834043551301487\n",
      "2021-03-18 19:54:16,691 - sgram_fit -burstfit.fit - INFO - S: 731.2832079635614 +- 48.013029647860286\n",
      "2021-03-18 19:54:16,691 - sgram_fit -burstfit.fit - INFO - mu_t: 1207.2991214508688 +- 4.213243536228096\n",
      "2021-03-18 19:54:16,692 - sgram_fit -burstfit.fit - INFO - sigma_t: 11.259609732524533 +- 1.5688742150501045\n",
      "2021-03-18 19:54:16,692 - sgram_fit -burstfit.fit - INFO - tau: 6.132069921186363 +- 1.6235180608220625\n",
      "2021-03-18 19:54:16,692 - sgram_fit -burstfit.fit - INFO - DM: 564.3361968307069 +- 0.5239059844852217\n",
      "2021-03-18 19:54:16,693 - model -burstfit.fit - INFO - Making model.\n",
      "2021-03-18 19:54:16,693 - model -burstfit.fit - INFO - Found 1 components.\n",
      "2021-03-18 19:54:16,702 - get_off_pulse_region -burstfit.fit - INFO - mu_t and sigma_t found in params. Using those to estimate off pulse region.\n",
      "2021-03-18 19:54:16,703 - get_off_pulse_region -burstfit.fit - INFO - Using sgram fit parameters.\n",
      "2021-03-18 19:54:16,705 - model -burstfit.fit - INFO - Making model.\n",
      "2021-03-18 19:54:16,705 - model -burstfit.fit - INFO - Found 1 components.\n",
      "2021-03-18 19:54:16,717 - calc_redchisq -burstfit.fit - INFO - Reduced chi-square value of fit is: 0.9957156205218006\n",
      "2021-03-18 19:54:16,718 - run_tests -burstfit.fit - INFO - Running statistical tests on the residual.\n",
      "2021-03-18 19:54:16,718 - run_tests -burstfit.fit - INFO - Running off pulse - off pulse test\n",
      "2021-03-18 19:54:16,727 - tests -root - INFO - P values: T-test (0.60679), Kruskal (0.70429), KS (0.87426), F-test (0.61511)\n",
      "2021-03-18 19:54:16,727 - run_tests -burstfit.fit - INFO - Running on pulse - off pulse (L) test\n",
      "2021-03-18 19:54:16,736 - tests -root - INFO - P values: T-test (0.43667), Kruskal (0.87474), KS (0.08273), F-test (0.36088)\n",
      "2021-03-18 19:54:16,736 - run_tests -burstfit.fit - INFO - On pulse residual is similar to left off pulse region.\n",
      "2021-03-18 19:54:16,737 - run_tests -burstfit.fit - INFO - Running on pulse - off pulse (R) test\n",
      "2021-03-18 19:54:16,745 - tests -root - INFO - P values: T-test (0.79066), Kruskal (0.83635), KS (0.07254), F-test (0.25825)\n",
      "2021-03-18 19:54:16,746 - run_tests -burstfit.fit - INFO - On pulse residual is similar to right off pulse region.\n",
      "2021-03-18 19:54:16,746 - fitall -burstfit.fit - INFO - On pulse residual looks like noise. Terminating individual component fitting.\n",
      "2021-03-18 19:54:16,747 - fitall -burstfit.fit - INFO - Final number of components = 1. Terminating fitting.\n",
      "2021-03-18 19:54:16,748 - get_off_pulse_region -burstfit.fit - INFO - mu_t and sigma_t found in params. Using those to estimate off pulse region.\n",
      "2021-03-18 19:54:16,749 - get_off_pulse_region -burstfit.fit - INFO - Using sgram all-component-fit parameters.\n"
     ]
    }
   ],
   "source": [
    "bf.fitall(plot=False)"
   ]
  },
  {
   "cell_type": "markdown",
   "metadata": {},
   "source": [
    "## BurstIO class "
   ]
  },
  {
   "cell_type": "code",
   "execution_count": 10,
   "metadata": {},
   "outputs": [],
   "source": [
    "bio = BurstIO(bf, bd)"
   ]
  },
  {
   "cell_type": "code",
   "execution_count": 11,
   "metadata": {},
   "outputs": [
    {
     "name": "stderr",
     "output_type": "stream",
     "text": [
      "2021-03-18 19:54:16,830 - set_attributes_to_save -burstfit.io - INFO - Setting attributes to be saved.\n",
      "2021-03-18 19:54:16,831 - set_attributes_to_save -burstfit.io - INFO - Reading attributes from BurstData object.\n",
      "2021-03-18 19:54:16,832 - set_attributes_to_save -burstfit.io - INFO - Reading attributes from BurstFit object.\n",
      "2021-03-18 19:54:16,832 - set_attributes_to_save -burstfit.io - INFO - Copied necessary attributes\n",
      "2021-03-18 19:54:16,832 - save_results -burstfit.io - INFO - Preparing dictionary to be saved.\n",
      "2021-03-18 19:54:16,833 - save_results -burstfit.io - INFO - Writing JSON file: /hyrule/data/users/kshitij/kg_121102/burstfit/examples/cand_tstart_57645.411052962729_tcand_2.0000000_dm_565.30000_snr_11.90000.json.\n"
     ]
    }
   ],
   "source": [
    "d = bio.save_results()"
   ]
  },
  {
   "cell_type": "markdown",
   "metadata": {},
   "source": [
    "This saves the relevant parameters to a JSON file: \n",
    "* header of the file\n",
    "* candidate parameters\n",
    "* fit results\n",
    "* function names  \n",
    "\n",
    "Here are the parameters that are saved: "
   ]
  },
  {
   "cell_type": "code",
   "execution_count": 12,
   "metadata": {},
   "outputs": [
    {
     "data": {
      "text/plain": [
       "{'fileheader': {'filelist': ['../tests/data/tcand_2_dm_565.30000_snr_11.92560.fil'],\n",
       "  'filename': '../tests/data/tcand_2_dm_565.30000_snr_11.92560.fil',\n",
       "  'basename': 'tcand_2_dm_565.30000_snr_11.92560',\n",
       "  'source_name': 'C0531+33',\n",
       "  'ra_deg': 82.99416666666666,\n",
       "  'dec_deg': 33.14711122222222,\n",
       "  'bw': -800.0,\n",
       "  'center_freq': 1374.53125,\n",
       "  'nbits': 8,\n",
       "  'format': 'fil',\n",
       "  'dtype': 'uint8',\n",
       "  'time_decimation_factor': 1,\n",
       "  'frequency_decimation_factor': 1,\n",
       "  'native_tsamp': 8.192e-05,\n",
       "  'native_foff': -12.5,\n",
       "  'native_nchans': 64,\n",
       "  'native_nspectra': 48828.0,\n",
       "  'fch1': 1774.53125,\n",
       "  'npol': 1,\n",
       "  'tstart': 57645.41105296273,\n",
       "  'gl': -5.119968059432011,\n",
       "  'gb': -0.22260846394980457,\n",
       "  'tstart_utc': '2016-09-14T09:51:54.976'},\n",
       " 'nstart': 24382.0,\n",
       " 'tcand': 2,\n",
       " 'mask': array([False, False, False, False, False, False, False, False, False,\n",
       "        False, False, False, False, False, False, False, False, False,\n",
       "        False, False, False, False, False, False, False, False, False,\n",
       "        False, False, False, False, False, False, False, False, False,\n",
       "        False, False, False, False, False, False, False, False, False,\n",
       "        False, False, False, False, False, False, False, False,  True,\n",
       "         True,  True,  True,  True,  True,  True,  True,  True,  True,\n",
       "         True]),\n",
       " 'id': 'cand_tstart_57645.411052962729_tcand_2.0000000_dm_565.30000_snr_11.90000',\n",
       " 'sgram_function': 'sgram_fn_vec',\n",
       " 'pulse_function': 'pulse_fn_vec',\n",
       " 'spectra_function': 'gauss_norm',\n",
       " 'ncomponents': 1,\n",
       " 'tsamp': 8.192e-05,\n",
       " 'outname': None,\n",
       " 'outdir': None,\n",
       " 'mcmc': None,\n",
       " 'width': 64,\n",
       " 'dm': 565.3,\n",
       " 'foff': -12.5,\n",
       " 'fch1': 1774.53125,\n",
       " 'comp_num': 1,\n",
       " 'profile_params': {1: {'popt': [763.9470222396869,\n",
       "    1202.832588161036,\n",
       "    11.487928835362144,\n",
       "    15.684895946500633],\n",
       "   'perr': array([76.47155803,  3.38435768,  2.86386007,  6.35034475])}},\n",
       " 'spectra_params': {1: {'popt': [24.478044459914074, 5.876907075384988],\n",
       "   'perr': array([0.40858356, 0.33360714])}},\n",
       " 'sgram_params': {1: {'popt': [24.975849003327195,\n",
       "    6.166294966919394,\n",
       "    731.2832079635614,\n",
       "    1207.2991214508688,\n",
       "    11.259609732524533,\n",
       "    6.132069921186363,\n",
       "    564.3361968307069],\n",
       "   'perr': array([ 0.39143117,  0.38340436, 48.01302965,  4.21324354,  1.56887422,\n",
       "           1.62351806,  0.52390598])},\n",
       "  'all': {1: {'popt': [24.975849003327195,\n",
       "     6.166294966919394,\n",
       "     731.2832079635614,\n",
       "     1207.2991214508688,\n",
       "     11.259609732524533,\n",
       "     6.132069921186363,\n",
       "     564.3361968307069],\n",
       "    'perr': array([ 0.39143117,  0.38340436, 48.01302965,  4.21324354,  1.56887422,\n",
       "            1.62351806,  0.52390598])}}},\n",
       " 'mcmc_params': {},\n",
       " 'profile_bounds': {1: ([0, 964, 0, 0], [3177.6240234375, 1476, 256, 256])},\n",
       " 'spectra_bounds': {1: ([0, 0], [63, 63])},\n",
       " 'sgram_bounds': {1: [-inf, inf]},\n",
       " 'physical_params': {},\n",
       " 'clip_fac': 6.35010444928825,\n",
       " 'nt': 2440,\n",
       " 'nf': 64,\n",
       " 'i0': 1202,\n",
       " 'profile_param_names': ['S', 'mu_t', 'sigma_t', 'tau'],\n",
       " 'spectra_param_names': ['mu_f', 'sigma_f'],\n",
       " 'param_names': ['mu_f', 'sigma_f', 'S', 'mu_t', 'sigma_t', 'tau', 'DM'],\n",
       " 'reduced_chi_sq': 0.9957156205218006,\n",
       " 'mcmcfit': False}"
      ]
     },
     "execution_count": 12,
     "metadata": {},
     "output_type": "execute_result"
    }
   ],
   "source": [
    "d"
   ]
  },
  {
   "cell_type": "markdown",
   "metadata": {},
   "source": [
    "Fitted parameters for all components are saved in `sgram_params['all']`"
   ]
  },
  {
   "cell_type": "code",
   "execution_count": 13,
   "metadata": {},
   "outputs": [
    {
     "data": {
      "text/plain": [
       "{1: {'popt': [24.975849003327195,\n",
       "   6.166294966919394,\n",
       "   731.2832079635614,\n",
       "   1207.2991214508688,\n",
       "   11.259609732524533,\n",
       "   6.132069921186363,\n",
       "   564.3361968307069],\n",
       "  'perr': array([ 0.39143117,  0.38340436, 48.01302965,  4.21324354,  1.56887422,\n",
       "          1.62351806,  0.52390598])}}"
      ]
     },
     "execution_count": 13,
     "metadata": {},
     "output_type": "execute_result"
    }
   ],
   "source": [
    "d['sgram_params']['all']"
   ]
  },
  {
   "cell_type": "markdown",
   "metadata": {},
   "source": [
    "## Read JSON\n",
    "BurstIO class can also be used to read the json file with fitting results and reproduce the sgram model"
   ]
  },
  {
   "cell_type": "code",
   "execution_count": 14,
   "metadata": {},
   "outputs": [],
   "source": [
    "file = '../tests/data/cand_tstart_57645.411052962729_tcand_2.0000000_dm_565.30000_snr_11.90000.json'\n",
    "bio = BurstIO(jsonfile=file)"
   ]
  },
  {
   "cell_type": "markdown",
   "metadata": {},
   "source": [
    "The following reads the json file and sets up relevant functions and metadata."
   ]
  },
  {
   "cell_type": "code",
   "execution_count": 15,
   "metadata": {},
   "outputs": [
    {
     "name": "stderr",
     "output_type": "stream",
     "text": [
      "2021-03-18 19:54:17,077 - read_json_and_precalc -burstfit.io - INFO - Reading JSON: ../tests/data/cand_tstart_57645.411052962729_tcand_2.0000000_dm_565.30000_snr_11.90000.json\n",
      "2021-03-18 19:54:17,087 - read_json_and_precalc -burstfit.io - INFO - Setting I/O class attributes.\n",
      "2021-03-18 19:54:17,088 - read_json_and_precalc -burstfit.io - INFO - Setting models (pulse, spectra and spectrogram).\n",
      "2021-03-18 19:54:17,088 - read_json_and_precalc -burstfit.io - INFO - BurstIO class is ready with necessary attributes.\n"
     ]
    }
   ],
   "source": [
    "bio.read_json_and_precalc()"
   ]
  },
  {
   "cell_type": "code",
   "execution_count": 16,
   "metadata": {},
   "outputs": [
    {
     "data": {
      "text/plain": [
       "{'1': {'popt': [24.975849003327195,\n",
       "   6.166294966919394,\n",
       "   731.2832079635614,\n",
       "   1207.2991214508688,\n",
       "   11.259609732524533,\n",
       "   6.132069921186363,\n",
       "   564.3361968307069],\n",
       "  'perr': [0.3914311686459791,\n",
       "   0.3834043551301487,\n",
       "   48.013029647860286,\n",
       "   4.213243536228096,\n",
       "   1.5688742150501045,\n",
       "   1.6235180608220625,\n",
       "   0.5239059844852217]},\n",
       " 'all': {'1': {'popt': [24.975849003327195,\n",
       "    6.166294966919394,\n",
       "    731.2832079635614,\n",
       "    1207.2991214508688,\n",
       "    11.259609732524533,\n",
       "    6.132069921186363,\n",
       "    564.3361968307069],\n",
       "   'perr': [0.3914311686459791,\n",
       "    0.3834043551301487,\n",
       "    48.013029647860286,\n",
       "    4.213243536228096,\n",
       "    1.5688742150501045,\n",
       "    1.6235180608220625,\n",
       "    0.5239059844852217]}}}"
      ]
     },
     "execution_count": 16,
     "metadata": {},
     "output_type": "execute_result"
    }
   ],
   "source": [
    "bio.sgram_params"
   ]
  },
  {
   "cell_type": "code",
   "execution_count": 17,
   "metadata": {},
   "outputs": [
    {
     "data": {
      "text/plain": [
       "'sgram_fn_vec'"
      ]
     },
     "execution_count": 17,
     "metadata": {},
     "output_type": "execute_result"
    }
   ],
   "source": [
    "# sgram function\n",
    "bio.sgram_model.sgram_function.__name__"
   ]
  },
  {
   "cell_type": "code",
   "execution_count": 18,
   "metadata": {},
   "outputs": [
    {
     "data": {
      "text/plain": [
       "('pulse_fn_vec', 'gauss_norm')"
      ]
     },
     "execution_count": 18,
     "metadata": {},
     "output_type": "execute_result"
    }
   ],
   "source": [
    "# profile and spectra function\n",
    "bio.sgram_model.pulse_model.function.__name__, bio.sgram_model.spectra_model.function.__name__"
   ]
  },
  {
   "cell_type": "markdown",
   "metadata": {},
   "source": [
    "## Reproduce Model"
   ]
  },
  {
   "cell_type": "markdown",
   "metadata": {},
   "source": [
    "Similar to BurstFit class, we can use `bio.model` to make the model. This uses the `sgram_params` or `mcmc_params` (if available) to make the model. "
   ]
  },
  {
   "cell_type": "code",
   "execution_count": 19,
   "metadata": {},
   "outputs": [
    {
     "name": "stderr",
     "output_type": "stream",
     "text": [
      "2021-03-18 19:54:17,347 - model -root - INFO - Making model.\n",
      "2021-03-18 19:54:17,348 - model -burstfit.io - INFO - Found 1 components.\n"
     ]
    },
    {
     "data": {
      "image/png": "[encoded data removed]",
      "text/plain": [
       "<Figure size 576x432 with 2 Axes>"
      ]
     },
     "metadata": {
      "needs_background": "light"
     },
     "output_type": "display_data"
    }
   ],
   "source": [
    "plot_me(bio.model)"
   ]
  }
 ],
 "metadata": {
  "kernelspec": {
   "display_name": "Python 3",
   "language": "python",
   "name": "python3"
  },
  "language_info": {
   "codemirror_mode": {
    "name": "ipython",
    "version": 3
   },
   "file_extension": ".py",
   "mimetype": "text/x-python",
   "name": "python",
   "nbconvert_exporter": "python",
   "pygments_lexer": "ipython3",
   "version": "3.6.8"
  }
 },
 "nbformat": 4,
 "nbformat_minor": 2
}
