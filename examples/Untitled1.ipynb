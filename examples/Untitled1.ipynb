{
 "cells": [
  {
   "cell_type": "code",
   "execution_count": 1,
   "metadata": {
    "scrolled": false
   },
   "outputs": [
    {
     "name": "stdout",
     "output_type": "stream",
     "text": [
      "slack package is deprecated. Please use slack_sdk.web/webhook/rtm package instead. For more info, go to https://slack.dev/python-slack-sdk/v3-migration/\n",
      "voeventparse not available. cannot create voevents\n",
      "datacite not found. cannot create DOIs\n",
      "caltechdata_api not found.\n",
      "datacite/tind env not found. Cannot use datacite API\n"
     ]
    },
    {
     "name": "stderr",
     "output_type": "stream",
     "text": [
      "2022-07-26 20:08:41,079 - prepare_data -burstfit.data - INFO - Preparing data for burst fitting.\n",
      "2022-07-26 20:08:41,081 - get_chunk -root - INFO - Padding with median in the beginning\n",
      "2022-07-26 20:08:41,410 - crop_dedispersed_data -burstfit.data - INFO - Cropping data with time_window: 0.2s.\n",
      "2022-07-26 20:08:41,411 - normalise_data -burstfit.data - INFO - Normalising data using off pulse mean and std.\n",
      "2022-07-26 20:08:41,531 - normalise_data -burstfit.data - INFO - Off pulse mean and std are: (35.74838992974239, 21.096309836946098)\n"
     ]
    },
    {
     "name": "stdout",
     "output_type": "stream",
     "text": [
      "using filterbank  /dataz/dsa110/operations/T1//220726aaav_inj10/220726aaav_inj10_37.fil\n",
      "Only using Heimdall filterbank.\n"
     ]
    },
    {
     "name": "stderr",
     "output_type": "stream",
     "text": [
      "2022-07-26 20:08:42,549 - run_tests -burstfit.fit - INFO - Running statistical tests on the residual.\n",
      "2022-07-26 20:08:42,550 - run_tests -burstfit.fit - INFO - Running off pulse - off pulse test\n",
      "2022-07-26 20:08:42,555 - tests -root - INFO - P values: T-test (0.46534), Kruskal (0.43047), KS (0.73405), F-test (0.10083)\n",
      "2022-07-26 20:08:42,555 - run_tests -burstfit.fit - INFO - Running on pulse - off pulse (L) test\n",
      "2022-07-26 20:08:42,559 - tests -root - INFO - P values: T-test (0.00014), Kruskal (0.00099), KS (0.00105), F-test (0.00000)\n",
      "2022-07-26 20:08:42,560 - run_tests -burstfit.fit - INFO - Running on pulse - off pulse (R) test\n",
      "2022-07-26 20:08:42,566 - tests -root - INFO - P values: T-test (0.00002), Kruskal (0.00016), KS (0.00004), F-test (0.00020)\n",
      "2022-07-26 20:08:42,567 - fitall -burstfit.fit - WARNING - Input profile bounds detected. Using them for component 1\n",
      "2022-07-26 20:08:42,568 - fitcycle -burstfit.fit - INFO - Fitting component 1.\n",
      "2022-07-26 20:08:42,570 - initial_profilefit -burstfit.fit - INFO - Running initial profile fit for component: 1\n",
      "2022-07-26 20:08:42,603 - initial_profilefit -burstfit.fit - INFO - Converged parameters (profile fit) are:\n",
      "2022-07-26 20:08:42,604 - initial_profilefit -burstfit.fit - INFO - S: 104.12396180124529 +- 8.799769159949372\n",
      "2022-07-26 20:08:42,604 - initial_profilefit -burstfit.fit - INFO - mu_t: 75.92724521616208 +- 0.5706782005742688\n",
      "2022-07-26 20:08:42,605 - initial_profilefit -burstfit.fit - INFO - sigma_t: 5.413642990160683 +- 0.052281824365032724\n",
      "2022-07-26 20:08:42,605 - initial_profilefit -burstfit.fit - INFO - tau: 1.0304417603679135 +- 0.002986516515010298\n",
      "2022-07-26 20:08:42,606 - make_spectra -burstfit.fit - INFO - Making spectra using profile fit parameters.\n",
      "2022-07-26 20:08:42,608 - initial_spectrafit -burstfit.fit - INFO - Running spectra profile fit for component: 1\n",
      "2022-07-26 20:08:42,609 - initial_spectrafit -burstfit.fit - INFO - Converged parameters (spectra fit) are:\n",
      "2022-07-26 20:08:42,609 - initial_spectrafit -burstfit.fit - INFO - c0: 0.2117425501346588 +- 0.0\n",
      "2022-07-26 20:08:42,610 - initial_spectrafit -burstfit.fit - INFO - c1: 0.45190006494522095 +- 0.0\n",
      "2022-07-26 20:08:42,610 - initial_spectrafit -burstfit.fit - INFO - c2: 0.36922287940979004 +- 0.0\n",
      "2022-07-26 20:08:42,611 - sgram_fit -burstfit.fit - INFO - Running sgram profile fit for component: 1\n",
      "2022-07-26 20:08:42,611 - sgram_fit -burstfit.fit - INFO - initial estimate for parameters: [0.21174255, 0.45190006, 0.36922288, 104.12396180124529, 75.92724521616208, 5.413642990160683, 1.0304417603679135, 1322]\n",
      "2022-07-26 20:08:42,741 - sgram_fit -burstfit.fit - INFO - Converged parameters are:\n",
      "2022-07-26 20:08:42,742 - sgram_fit -burstfit.fit - INFO - c0: 0.19075129471143729 +- 0.04431194976744263\n",
      "2022-07-26 20:08:42,743 - sgram_fit -burstfit.fit - INFO - c1: 0.42044951386532864 +- 0.03518821829923519\n",
      "2022-07-26 20:08:42,743 - sgram_fit -burstfit.fit - INFO - c2: 0.40499582376603854 +- 0.03575310630313952\n",
      "2022-07-26 20:08:42,744 - sgram_fit -burstfit.fit - INFO - S: 99.37026316154957 +- 3.7009418255044557\n",
      "2022-07-26 20:08:42,744 - sgram_fit -burstfit.fit - INFO - mu_t: 73.68084948160667 +- 0.9594343447934393\n",
      "2022-07-26 20:08:42,745 - sgram_fit -burstfit.fit - INFO - sigma_t: 5.576744871970272 +- 0.11265078517113918\n",
      "2022-07-26 20:08:42,745 - sgram_fit -burstfit.fit - INFO - tau: 1.0217546712087602 +- 0.008868510698473893\n",
      "2022-07-26 20:08:42,746 - sgram_fit -burstfit.fit - INFO - DM: 1323.7681827499669 +- 0.98482123164559\n",
      "2022-07-26 20:08:42,746 - model -burstfit.fit - INFO - Making model.\n",
      "2022-07-26 20:08:42,747 - model -burstfit.fit - INFO - Found 1 components.\n"
     ]
    },
    {
     "name": "stdout",
     "output_type": "stream",
     "text": [
      "self.function_input_names:  ['S', 'mu', 'sigma', 'tau']\n",
      "self.function_input_names:  ['c0', 'c1', 'c2']\n",
      "<function model_free_normalized_4 at 0x7f701b20d9d0>\n",
      "[0.21174255 0.45190006 0.36922288 0.14601164]\n"
     ]
    },
    {
     "name": "stderr",
     "output_type": "stream",
     "text": [
      "2022-07-26 20:08:42,752 - get_off_pulse_region -burstfit.fit - INFO - mu_t and sigma_t found in params. Using those to estimate off pulse region.\n",
      "2022-07-26 20:08:42,752 - get_off_pulse_region -burstfit.fit - INFO - Using sgram fit parameters.\n",
      "2022-07-26 20:08:42,754 - model -burstfit.fit - INFO - Making model.\n",
      "2022-07-26 20:08:42,754 - model -burstfit.fit - INFO - Found 1 components.\n",
      "2022-07-26 20:08:42,759 - calc_redchisq -burstfit.fit - INFO - Reduced chi-square value of fit is: 1.1685642188330805\n",
      "2022-07-26 20:08:42,760 - fitall -burstfit.fit - INFO - Fixed component exceeded. Terminated individual component fitting.\n",
      "2022-07-26 20:08:42,760 - fitall -burstfit.fit - INFO - Final number of components = 1. Terminating fitting.\n",
      "2022-07-26 20:08:42,761 - get_off_pulse_region -burstfit.fit - INFO - mu_t and sigma_t found in params. Using those to estimate off pulse region.\n",
      "2022-07-26 20:08:42,762 - get_off_pulse_region -burstfit.fit - INFO - Using sgram all-component-fit parameters.\n",
      "2022-07-26 20:08:42,764 - get_off_pulse_region -burstfit.fit - INFO - mu_t and sigma_t found in params. Using those to estimate off pulse region.\n",
      "2022-07-26 20:08:42,765 - get_off_pulse_region -burstfit.fit - INFO - Using sgram all-component-fit parameters.\n",
      "2022-07-26 20:08:42,766 - model -burstfit.fit - INFO - Making model.\n",
      "2022-07-26 20:08:42,767 - model -burstfit.fit - INFO - Found 1 components.\n",
      "2022-07-26 20:08:42,772 - calc_redchisq -burstfit.fit - INFO - Reduced chi-square value of fit is: 1.1685642188330805\n"
     ]
    },
    {
     "name": "stdout",
     "output_type": "stream",
     "text": [
      "{bf}.calc_redchisq()= (1.1685642188330805, 0.0021086458141811315)\n",
      "32\n",
      "64\n",
      "128\n",
      "256\n",
      "512\n",
      "fine resolution bin size (at 32.768e-6s) that gives the max snr: 64\n",
      "{'bf1_width_bins': 64, 'bf1_start_bins': 237, 'bf1_dm': 1323.7681827499669, 'bf1_dm_stddev': 0.98482123164559, 'bf1_reduced_chisq': 1.1685642188330805, 'bf1_pvalue': 0.0021086458141811315}\n",
      "Making directory for burstfit plot of 220726aaav_inj10\n"
     ]
    },
    {
     "data": {
      "text/plain": [
       "{'bf1_width_bins': 64,\n",
       " 'bf1_start_bins': 237,\n",
       " 'bf1_dm': 1323.7681827499669,\n",
       " 'bf1_dm_stddev': 0.98482123164559,\n",
       " 'bf1_reduced_chisq': 1.1685642188330805,\n",
       " 'bf1_pvalue': 0.0021086458141811315}"
      ]
     },
     "execution_count": 1,
     "metadata": {},
     "output_type": "execute_result"
    }
   ],
   "source": [
    "from burstfit import BurstFit_paper_template\n",
    "BurstFit_paper_template.real_time_burstfit('220726aaav_inj10', '/dataz/dsa110/operations/T1//220726aaav_inj10/220726aaav_inj10_37.fil', 10, 1322, 16)"
   ]
  },
  {
   "cell_type": "code",
   "execution_count": null,
   "metadata": {},
   "outputs": [],
   "source": []
  }
 ],
 "metadata": {
  "kernelspec": {
   "display_name": "casa38",
   "language": "python",
   "name": "casa38"
  },
  "language_info": {
   "codemirror_mode": {
    "name": "ipython",
    "version": 3
   },
   "file_extension": ".py",
   "mimetype": "text/x-python",
   "name": "python",
   "nbconvert_exporter": "python",
   "pygments_lexer": "ipython3",
   "version": "3.8.13"
  }
 },
 "nbformat": 4,
 "nbformat_minor": 4
}
