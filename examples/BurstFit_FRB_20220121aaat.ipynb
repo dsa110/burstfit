{
 "cells": [
  {
   "cell_type": "markdown",
   "metadata": {},
   "source": [
    "# FRB 20220121aaat"
   ]
  },
  {
   "cell_type": "code",
   "execution_count": 6,
   "metadata": {},
   "outputs": [
    {
     "name": "stderr",
     "output_type": "stream",
     "text": [
      "2022-02-15 21:00:11,686 - prepare_data -burstfit.data - INFO - Preparing data for burst fitting.\n",
      "2022-02-15 21:00:11,791 - crop_dedispersed_data -burstfit.data - INFO - Cropping data with time_window: 0.2s.\n",
      "2022-02-15 21:00:11,794 - normalise_data -burstfit.data - INFO - Normalising data using off pulse mean and std.\n",
      "2022-02-15 21:00:11,810 - normalise_data -burstfit.data - INFO - Off pulse mean and std are: (32.94796335893984, 22.55808984402352)\n"
     ]
    },
    {
     "name": "stdout",
     "output_type": "stream",
     "text": [
      "8\n"
     ]
    },
    {
     "ename": "KeyboardInterrupt",
     "evalue": "",
     "output_type": "error",
     "traceback": [
      "\u001b[0;31m---------------------------------------------------------------------------\u001b[0m",
      "\u001b[0;31mKeyboardInterrupt\u001b[0m                         Traceback (most recent call last)",
      "\u001b[0;32m<ipython-input-6-7ecaf77512e1>\u001b[0m in \u001b[0;36m<module>\u001b[0;34m\u001b[0m\n\u001b[1;32m     64\u001b[0m \u001b[0;34m\u001b[0m\u001b[0m\n\u001b[1;32m     65\u001b[0m \u001b[0;31m# read in data\u001b[0m\u001b[0;34m\u001b[0m\u001b[0;34m\u001b[0m\u001b[0;34m\u001b[0m\u001b[0m\n\u001b[0;32m---> 66\u001b[0;31m \u001b[0mdata\u001b[0m \u001b[0;34m=\u001b[0m \u001b[0mff\u001b[0m\u001b[0;34m.\u001b[0m\u001b[0mproc_cand_fil\u001b[0m\u001b[0;34m(\u001b[0m\u001b[0mfil_file\u001b[0m\u001b[0;34m,\u001b[0m \u001b[0mbd\u001b[0m\u001b[0;34m.\u001b[0m\u001b[0mdm\u001b[0m\u001b[0;34m,\u001b[0m \u001b[0mbd\u001b[0m\u001b[0;34m.\u001b[0m\u001b[0mwidth\u001b[0m\u001b[0;34m,\u001b[0m \u001b[0mnfreq_plot\u001b[0m\u001b[0;34m=\u001b[0m\u001b[0mnfreq\u001b[0m\u001b[0;34m,\u001b[0m \u001b[0mndm\u001b[0m\u001b[0;34m=\u001b[0m\u001b[0;36m64\u001b[0m\u001b[0;34m)\u001b[0m\u001b[0;34m[\u001b[0m\u001b[0;36m0\u001b[0m\u001b[0;34m]\u001b[0m\u001b[0;34m\u001b[0m\u001b[0;34m\u001b[0m\u001b[0m\n\u001b[0m\u001b[1;32m     67\u001b[0m \u001b[0;31m# zoom in close to the burst\u001b[0m\u001b[0;34m\u001b[0m\u001b[0;34m\u001b[0m\u001b[0;34m\u001b[0m\u001b[0m\n\u001b[1;32m     68\u001b[0m \u001b[0mdata_burst\u001b[0m \u001b[0;34m=\u001b[0m \u001b[0mdata\u001b[0m\u001b[0;34m[\u001b[0m\u001b[0;34m:\u001b[0m\u001b[0;34m,\u001b[0m\u001b[0mint\u001b[0m\u001b[0;34m(\u001b[0m\u001b[0;36m0.45\u001b[0m\u001b[0;34m/\u001b[0m\u001b[0mbd\u001b[0m\u001b[0;34m.\u001b[0m\u001b[0mtsamp\u001b[0m\u001b[0;34m)\u001b[0m\u001b[0;34m:\u001b[0m \u001b[0mint\u001b[0m\u001b[0;34m(\u001b[0m\u001b[0;36m0.55\u001b[0m\u001b[0;34m/\u001b[0m\u001b[0mbd\u001b[0m\u001b[0;34m.\u001b[0m\u001b[0mtsamp\u001b[0m\u001b[0;34m)\u001b[0m\u001b[0;34m]\u001b[0m\u001b[0;34m\u001b[0m\u001b[0;34m\u001b[0m\u001b[0m\n",
      "\u001b[0;32m~/gechen/software/filplot_funcs_gc.py\u001b[0m in \u001b[0;36mproc_cand_fil\u001b[0;34m(fnfil, dm, ibox, snrheim, pre_rebin, nfreq_plot, heim_raw_tres, rficlean, ndm, norm)\u001b[0m\n\u001b[1;32m    314\u001b[0m                                \u001b[0mdm_min\u001b[0m\u001b[0;34m=\u001b[0m\u001b[0mdm\u001b[0m\u001b[0;34m-\u001b[0m\u001b[0mdm_err\u001b[0m\u001b[0;34m,\u001b[0m \u001b[0mdm0\u001b[0m\u001b[0;34m=\u001b[0m\u001b[0mdm\u001b[0m\u001b[0;34m,\u001b[0m \u001b[0mndm\u001b[0m\u001b[0;34m=\u001b[0m\u001b[0mndm\u001b[0m\u001b[0;34m,\u001b[0m\u001b[0;34m\u001b[0m\u001b[0;34m\u001b[0m\u001b[0m\n\u001b[1;32m    315\u001b[0m                                \u001b[0mfreq_ref\u001b[0m\u001b[0;34m=\u001b[0m\u001b[0;32mNone\u001b[0m\u001b[0;34m,\u001b[0m\u001b[0;34m\u001b[0m\u001b[0;34m\u001b[0m\u001b[0m\n\u001b[0;32m--> 316\u001b[0;31m                                downsample=heim_raw_tres//pre_rebin)\n\u001b[0m\u001b[1;32m    317\u001b[0m     \u001b[0mdata\u001b[0m \u001b[0;34m=\u001b[0m \u001b[0mdata\u001b[0m\u001b[0;34m.\u001b[0m\u001b[0mdedisperse\u001b[0m\u001b[0;34m(\u001b[0m\u001b[0mdm\u001b[0m\u001b[0;34m)\u001b[0m\u001b[0;34m\u001b[0m\u001b[0;34m\u001b[0m\u001b[0m\n\u001b[1;32m    318\u001b[0m     \u001b[0;31m#data = data.downsample(heim_raw_tres*ibox//pre_rebin)\u001b[0m\u001b[0;34m\u001b[0m\u001b[0;34m\u001b[0m\u001b[0;34m\u001b[0m\u001b[0m\n",
      "\u001b[0;32m~/gechen/software/filplot_funcs_gc.py\u001b[0m in \u001b[0;36mdm_transform\u001b[0;34m(data, dm_max, dm_min, dm0, ndm, freq_ref, downsample)\u001b[0m\n\u001b[1;32m    241\u001b[0m \u001b[0;34m\u001b[0m\u001b[0m\n\u001b[1;32m    242\u001b[0m     \u001b[0;32mfor\u001b[0m \u001b[0mii\u001b[0m\u001b[0;34m,\u001b[0m \u001b[0mdm\u001b[0m \u001b[0;32min\u001b[0m \u001b[0menumerate\u001b[0m\u001b[0;34m(\u001b[0m\u001b[0mdms\u001b[0m\u001b[0;34m)\u001b[0m\u001b[0;34m:\u001b[0m\u001b[0;34m\u001b[0m\u001b[0;34m\u001b[0m\u001b[0m\n\u001b[0;32m--> 243\u001b[0;31m         \u001b[0mdd\u001b[0m \u001b[0;34m=\u001b[0m \u001b[0mdata\u001b[0m\u001b[0;34m.\u001b[0m\u001b[0mdedisperse\u001b[0m\u001b[0;34m(\u001b[0m\u001b[0mdm\u001b[0m\u001b[0;34m)\u001b[0m\u001b[0;34m\u001b[0m\u001b[0;34m\u001b[0m\u001b[0m\n\u001b[0m\u001b[1;32m    244\u001b[0m         \u001b[0m_dts\u001b[0m \u001b[0;34m=\u001b[0m \u001b[0mnp\u001b[0m\u001b[0;34m.\u001b[0m\u001b[0mmean\u001b[0m\u001b[0;34m(\u001b[0m\u001b[0mdd\u001b[0m\u001b[0;34m,\u001b[0m\u001b[0maxis\u001b[0m\u001b[0;34m=\u001b[0m\u001b[0;36m0\u001b[0m\u001b[0;34m)\u001b[0m\u001b[0;34m\u001b[0m\u001b[0;34m\u001b[0m\u001b[0m\n\u001b[1;32m    245\u001b[0m         \u001b[0mdata_full\u001b[0m\u001b[0;34m[\u001b[0m\u001b[0mii\u001b[0m\u001b[0;34m]\u001b[0m \u001b[0;34m=\u001b[0m \u001b[0m_dts\u001b[0m\u001b[0;34m[\u001b[0m\u001b[0;34m:\u001b[0m\u001b[0mntime\u001b[0m\u001b[0;34m//\u001b[0m\u001b[0mdownsample\u001b[0m\u001b[0;34m*\u001b[0m\u001b[0mdownsample\u001b[0m\u001b[0;34m]\u001b[0m\u001b[0;34m.\u001b[0m\u001b[0mreshape\u001b[0m\u001b[0;34m(\u001b[0m\u001b[0mntime\u001b[0m\u001b[0;34m//\u001b[0m\u001b[0mdownsample\u001b[0m\u001b[0;34m,\u001b[0m \u001b[0mdownsample\u001b[0m\u001b[0;34m)\u001b[0m\u001b[0;34m.\u001b[0m\u001b[0mmean\u001b[0m\u001b[0;34m(\u001b[0m\u001b[0;36m1\u001b[0m\u001b[0;34m)\u001b[0m\u001b[0;34m\u001b[0m\u001b[0;34m\u001b[0m\u001b[0m\n",
      "\u001b[0;32m~/anaconda3/envs/casa/lib/python3.6/site-packages/sigpyproc/Filterbank.py\u001b[0m in \u001b[0;36mdedisperse\u001b[0;34m(self, dm, only_valid_samples)\u001b[0m\n\u001b[1;32m    890\u001b[0m             \u001b[0mnew_ar\u001b[0m \u001b[0;34m=\u001b[0m \u001b[0mself\u001b[0m\u001b[0;34m.\u001b[0m\u001b[0mcopy\u001b[0m\u001b[0;34m(\u001b[0m\u001b[0;34m)\u001b[0m\u001b[0;34m\u001b[0m\u001b[0;34m\u001b[0m\u001b[0m\n\u001b[1;32m    891\u001b[0m             \u001b[0;32mfor\u001b[0m \u001b[0mii\u001b[0m \u001b[0;32min\u001b[0m \u001b[0mrange\u001b[0m\u001b[0;34m(\u001b[0m\u001b[0mself\u001b[0m\u001b[0;34m.\u001b[0m\u001b[0mshape\u001b[0m\u001b[0;34m[\u001b[0m\u001b[0;36m0\u001b[0m\u001b[0;34m]\u001b[0m\u001b[0;34m)\u001b[0m\u001b[0;34m:\u001b[0m\u001b[0;34m\u001b[0m\u001b[0;34m\u001b[0m\u001b[0m\n\u001b[0;32m--> 892\u001b[0;31m                 \u001b[0mnew_ar\u001b[0m\u001b[0;34m[\u001b[0m\u001b[0mii\u001b[0m\u001b[0;34m]\u001b[0m \u001b[0;34m=\u001b[0m \u001b[0mrollArray\u001b[0m\u001b[0;34m(\u001b[0m\u001b[0mself\u001b[0m\u001b[0;34m[\u001b[0m\u001b[0mii\u001b[0m\u001b[0;34m]\u001b[0m\u001b[0;34m,\u001b[0m \u001b[0mdelays\u001b[0m\u001b[0;34m[\u001b[0m\u001b[0mii\u001b[0m\u001b[0;34m]\u001b[0m \u001b[0;34m%\u001b[0m \u001b[0mself\u001b[0m\u001b[0;34m.\u001b[0m\u001b[0mshape\u001b[0m\u001b[0;34m[\u001b[0m\u001b[0;36m1\u001b[0m\u001b[0;34m]\u001b[0m\u001b[0;34m,\u001b[0m \u001b[0;36m0\u001b[0m\u001b[0;34m)\u001b[0m\u001b[0;34m\u001b[0m\u001b[0;34m\u001b[0m\u001b[0m\n\u001b[0m\u001b[1;32m    893\u001b[0m \u001b[0;34m\u001b[0m\u001b[0m\n\u001b[1;32m    894\u001b[0m         \u001b[0mnew_ar\u001b[0m\u001b[0;34m.\u001b[0m\u001b[0mdm\u001b[0m \u001b[0;34m=\u001b[0m \u001b[0mdm\u001b[0m\u001b[0;34m\u001b[0m\u001b[0;34m\u001b[0m\u001b[0m\n",
      "\u001b[0;32m~/anaconda3/envs/casa/lib/python3.6/site-packages/sigpyproc/Utils.py\u001b[0m in \u001b[0;36mrollArray\u001b[0;34m(y, shift, axis)\u001b[0m\n\u001b[1;32m     29\u001b[0m     \u001b[0mn\u001b[0m \u001b[0;34m=\u001b[0m \u001b[0my\u001b[0m\u001b[0;34m.\u001b[0m\u001b[0mshape\u001b[0m\u001b[0;34m[\u001b[0m\u001b[0maxis\u001b[0m\u001b[0;34m]\u001b[0m\u001b[0;34m\u001b[0m\u001b[0;34m\u001b[0m\u001b[0m\n\u001b[1;32m     30\u001b[0m     \u001b[0mshift\u001b[0m \u001b[0;34m%=\u001b[0m \u001b[0mn\u001b[0m\u001b[0;34m\u001b[0m\u001b[0;34m\u001b[0m\u001b[0m\n\u001b[0;32m---> 31\u001b[0;31m     \u001b[0;32mreturn\u001b[0m \u001b[0my\u001b[0m\u001b[0;34m.\u001b[0m\u001b[0mtake\u001b[0m\u001b[0;34m(\u001b[0m\u001b[0mnp\u001b[0m\u001b[0;34m.\u001b[0m\u001b[0mconcatenate\u001b[0m\u001b[0;34m(\u001b[0m\u001b[0;34m(\u001b[0m\u001b[0mnp\u001b[0m\u001b[0;34m.\u001b[0m\u001b[0marange\u001b[0m\u001b[0;34m(\u001b[0m\u001b[0mshift\u001b[0m\u001b[0;34m,\u001b[0m \u001b[0mn\u001b[0m\u001b[0;34m)\u001b[0m\u001b[0;34m,\u001b[0m \u001b[0mnp\u001b[0m\u001b[0;34m.\u001b[0m\u001b[0marange\u001b[0m\u001b[0;34m(\u001b[0m\u001b[0mshift\u001b[0m\u001b[0;34m)\u001b[0m\u001b[0;34m)\u001b[0m\u001b[0;34m)\u001b[0m\u001b[0;34m,\u001b[0m \u001b[0maxis\u001b[0m\u001b[0;34m)\u001b[0m\u001b[0;34m\u001b[0m\u001b[0;34m\u001b[0m\u001b[0m\n\u001b[0m\u001b[1;32m     32\u001b[0m \u001b[0;34m\u001b[0m\u001b[0m\n\u001b[1;32m     33\u001b[0m \u001b[0;34m\u001b[0m\u001b[0m\n",
      "\u001b[0;31mKeyboardInterrupt\u001b[0m: "
     ]
    }
   ],
   "source": [
    "from burstfit.fit import BurstFit\n",
    "from burstfit.data import BurstData\n",
    "from burstfit.model import Model, SgramModel\n",
    "from burstfit.utils.plotter import plot_me\n",
    "from burstfit.utils.functions import pulse_fn_vec, sgram_fn_vec, sgram_fn, gauss_norm, gauss_norm3\n",
    "from burstfit.utils.plotter import plot_fit_results, plot_2d_fit \n",
    "from burstfit.io import BurstIO\n",
    "import logging\n",
    "import numpy as np\n",
    "import math\n",
    "import matplotlib.pyplot as plt\n",
    "# use Liam's function to read in filterbank files \n",
    "import sys\n",
    "sys.path.insert(1, '/home/ubuntu/gechen/software')\n",
    "import filplot_funcs_gc as ff\n",
    "\n",
    "#from burstfit.utils.functions import gauss_norm2, pulse_fn_vec, sgram_fn_vec \n",
    "%matplotlib inline \n",
    "\n",
    "\n",
    "# input variables \n",
    "candidate = '220121aaat'\n",
    "datestring = '2022_1_21_5_1_21'\n",
    "beam = 100 \n",
    "corr = 'corr02'\n",
    "dm_heimdall = 313.4\n",
    "width_heimdall = 8 \n",
    "snr_heimdall = 9.4 \n",
    "mask_chans=[] \n",
    "\n",
    "fil_file ='/data/dsa110/T1/'+corr + '/' + datestring + '/fil_'+candidate+'/'+candidate+'_'+str(beam)+'.fil'\n",
    "save_name = candidate + '_beam_'+str(beam)\n",
    "save_dir = '/home/ubuntu/gechen/burstfit_tests_outputs/' \n",
    "\n",
    "\n",
    "#data = ff.proc_cand_fil(fil_file, dm, width, nfreq_plot=64, ndm=64)[0]\n",
    "#data_t = data.mean(0)\n",
    "\n",
    "logging_format = \"%(asctime)s - %(funcName)s -%(name)s - %(levelname)s - %(message)s\"\n",
    "logging.basicConfig(\n",
    "    level=logging.INFO,\n",
    "    format=logging_format,\n",
    ")\n",
    "# create burst object \n",
    "bd = BurstData(\n",
    "    fp=fil_file,\n",
    "    dm=dm_heimdall ,\n",
    "    tcand=0.5, # pulse starting time in s.\n",
    "    width=width_heimdall,  \n",
    "    snr=snr_heimdall\n",
    ")\n",
    "\n",
    "bd.prepare_data()\n",
    "\n",
    "# number of channels after binning \n",
    "# requires each channel bin to have SNR_min \n",
    "# snr_heimdall was calculated with all 256 channels binned into one \n",
    "SNR_min = 3 \n",
    "n_per_bin = int(256 / (snr_heimdall / SNR_min)**2) \n",
    "if not math.log(n_per_bin, 2).is_integer():\n",
    "    n_per_bin = 2 ** (int(np.log2(n_per_bin))+1)\n",
    "nfreq = int(256 / n_per_bin) \n",
    "print(nfreq)\n",
    "    \n",
    "# read in data \n",
    "data = ff.proc_cand_fil(fil_file, bd.dm, bd.width, nfreq_plot=nfreq, ndm=64)[0]\n",
    "# zoom in close to the burst \n",
    "data_burst = data[:,int(0.45/bd.tsamp): int(0.55/bd.tsamp)]\n",
    "#data_burst = data \n",
    "    \n",
    "# fit models  \n",
    "# For pulse, we will use a gaussian convolved with an exponential model \n",
    "# S: Area of the pulse (fluence)\n",
    "# mu: means of gaussians for each channel\n",
    "# sigma: sigma of gaussian\n",
    "# tau: scattering timescale for each channel\n",
    "pnames = ['S', 'mu_t', 'sigma_t', 'tau']\n",
    "pulseModel = Model(pulse_fn_vec, param_names=pnames)\n",
    "\n",
    "# For spectra, we will use a normalized gaussian model  \n",
    "snames = ['mu_f', 'sigma_f']\n",
    "spectraModel = Model(gauss_norm, param_names=snames)\n",
    "\n",
    "\n",
    "sgram_mask = np.full(np.shape(data_burst), False)\n",
    "#sgramModel = SgramModel(pulseModel, spectraModel, sgram_fn_vec, \n",
    "#                        mask=sgram_mask, clip_fac=bd.clip_fac, other_param_names=[\"DM\"])\n",
    "\n",
    "sgramModel = SgramModel(pulseModel, spectraModel, sgram_fn, \n",
    "                        mask=sgram_mask, clip_fac=bd.clip_fac)#, other_param_names=[\"DM\"])\n",
    "\n",
    "#sgram_bounds=((0, 0.45, 0, -np.inf),(np.inf, 0.55, np.inf, np.inf)) # did not work when only set up bounds but do not chop data \n",
    "\n",
    "# Provide basic candidate information to `BurstFit`: sgram, model, DM, width, RFI mask, etc \n",
    "# initial fit: use heimdall results \n",
    "bf = BurstFit(\n",
    "    sgram_model=sgramModel,\n",
    "    sgram=data_burst, \n",
    "    width=width_heimdall,\n",
    "    dm=dm_heimdall,\n",
    "    foff=bd.foff * 1024 / nfreq,\n",
    "    fch1=bd.fch1,\n",
    "    tsamp=bd.tsamp,\n",
    "    clip_fac=bd.clip_fac,\n",
    "    mask= sgram_mask, \n",
    "    mcmcfit=False\n",
    ")\n",
    "\n",
    "print('bf.ncomponents=%d'%bf.ncomponents)\n",
    "print(data_burst)\n",
    "\n",
    "# Some setting up before we do the fitting \n",
    "bf.validate()\n",
    "bf.precalc()\n",
    "\n",
    "bf.fitcycle(plot=True)\n",
    "# fit all componnts \n",
    "bf.fitall(plot=False) \n",
    "bf.calc_redchisq()\n",
    "plot_fit_results(bf.sgram, bf.sgram_model.evaluate, bf.sgram_params['all'][1]['popt'], \n",
    "                 bf.tsamp, bf.fch1, bf.foff, show=True, save=True, outname=save_name+'2d_fit_res_curvfit', outdir=save_dir)\n",
    "#dm_fit, dm_fit_err = bf.sgram_params['all'][1]['popt'][-1], bf.sgram_params['all'][1]['perr'][-1]\n",
    "\n"
   ]
  },
  {
   "cell_type": "code",
   "execution_count": 2,
   "metadata": {},
   "outputs": [
    {
     "name": "stderr",
     "output_type": "stream",
     "text": [
      "2022-02-15 19:12:19,814 - model -burstfit.fit - INFO - Making model.\n",
      "2022-02-15 19:12:19,818 - model -burstfit.fit - INFO - Found 1 components.\n"
     ]
    },
    {
     "data": {
      "image/png": "[encoded data removed]",
      "text/plain": [
       "<Figure size 576x396 with 2 Axes>"
      ]
     },
     "metadata": {
      "needs_background": "light"
     },
     "output_type": "display_data"
    },
    {
     "name": "stdout",
     "output_type": "stream",
     "text": [
      "expected despersion in tsamp: 1.4 time samples\n"
     ]
    },
    {
     "name": "stderr",
     "output_type": "stream",
     "text": [
      "2022-02-15 19:12:20,072 - model -burstfit.fit - INFO - Making model.\n",
      "2022-02-15 19:12:20,074 - model -burstfit.fit - INFO - Found 1 components.\n"
     ]
    },
    {
     "data": {
      "image/png": "[encoded data removed]",
      "text/plain": [
       "<Figure size 576x396 with 2 Axes>"
      ]
     },
     "metadata": {
      "needs_background": "light"
     },
     "output_type": "display_data"
    },
    {
     "data": {
      "text/plain": [
       "7"
      ]
     },
     "execution_count": 2,
     "metadata": {},
     "output_type": "execute_result"
    }
   ],
   "source": [
    "bf.sgram_params\n",
    "plot_me(bf.model[:,int(382/2-30): int(382/2+30)]) \n",
    "bd.tsamp*3*1e3\n",
    "\n",
    "dm_diff = 103.46597098341815 - 103\n",
    "print('expected despersion in tsamp: %.1f time samples'%(4.149e3*dm_diff*(1/1280**2 - 1/1530**2) / bd.tsamp)) \n",
    "\n",
    "plot_me(bf.model)\n",
    "\n",
    "bf.sgram_params\n",
    "\n",
    "sgramModel.nparams\n"
   ]
  },
  {
   "cell_type": "code",
   "execution_count": 3,
   "metadata": {},
   "outputs": [
    {
     "name": "stdout",
     "output_type": "stream",
     "text": [
      "(8, 382)\n",
      "bf.ncomponents=0\n"
     ]
    }
   ],
   "source": [
    "pnames = ['S', 'mu_t', 'sigma_t', 'tau']\n",
    "pulseModel = Model(pulse_fn_vec, param_names=pnames)\n",
    "\n",
    "# For spectra, we will use a normalized gaussian model  \n",
    "snames = ['mu_f', 'sigma_f']\n",
    "spectraModel = Model(gauss_norm, param_names=snames)\n",
    "\n",
    "\n",
    "sgram_mask = np.full(np.shape(data_burst), False)\n",
    "#sgramModel = SgramModel(pulseModel, spectraModel, sgram_fn_vec, \n",
    "#                        mask=sgram_mask, clip_fac=bd.clip_fac, other_param_names=[\"DM\"])\n",
    "\n",
    "sgramModel = SgramModel(pulseModel, spectraModel, sgram_fn, \n",
    "                        mask=sgram_mask, clip_fac=bd.clip_fac)#, other_param_names=[\"DM\"])\n",
    "\n",
    "\n",
    "bf = BurstFit(\n",
    "    sgram_model=sgramModel,\n",
    "    sgram=data_burst, \n",
    "    width=width_heimdall,\n",
    "    dm=dm_heimdall,\n",
    "    foff=bd.foff * 1024 / nfreq,\n",
    "    fch1=bd.fch1,\n",
    "    tsamp=bd.tsamp,\n",
    "    clip_fac=bd.clip_fac,\n",
    "    mask= sgram_mask, \n",
    "    mcmcfit=False\n",
    ")\n",
    "\n",
    "print(np.shape(data_burst))\n",
    "\n",
    "# Some setting up before we do the fitting \n",
    "bf.validate()\n",
    "bf.precalc()\n",
    "print('bf.ncomponents=%d'%bf.ncomponents)\n"
   ]
  },
  {
   "cell_type": "code",
   "execution_count": 4,
   "metadata": {},
   "outputs": [
    {
     "name": "stderr",
     "output_type": "stream",
     "text": [
      "2022-02-15 19:12:20,317 - fitcycle -burstfit.fit - INFO - Fitting component 1.\n",
      "2022-02-15 19:12:20,319 - initial_profilefit -burstfit.fit - INFO - Running initial profile fit for component: 1\n",
      "2022-02-15 19:12:20,349 - initial_profilefit -burstfit.fit - INFO - Converged parameters (profile fit) are:\n",
      "2022-02-15 19:12:20,352 - initial_profilefit -burstfit.fit - INFO - S: 76.96159895259306 +- 9.17774715322096\n",
      "2022-02-15 19:12:20,354 - initial_profilefit -burstfit.fit - INFO - mu_t: 190.77731559296302 +- 0.3122178727459853\n",
      "2022-02-15 19:12:20,356 - initial_profilefit -burstfit.fit - INFO - sigma_t: 2.267390852689768 +- 0.3122178767197027\n",
      "2022-02-15 19:12:20,359 - initial_profilefit -burstfit.fit - INFO - tau: 0.24702364318070202 +- 0.0\n",
      "2022-02-15 19:12:20,362 - make_spectra -burstfit.fit - INFO - Making spectra using profile fit parameters.\n",
      "2022-02-15 19:12:20,365 - initial_spectrafit -burstfit.fit - INFO - Running spectra profile fit for component: 1\n",
      "2022-02-15 19:12:20,375 - initial_spectrafit -burstfit.fit - INFO - Converged parameters (spectra fit) are:\n",
      "2022-02-15 19:12:20,378 - initial_spectrafit -burstfit.fit - INFO - mu_f: 4.649306281130953 +- 0.3668000919306018\n",
      "2022-02-15 19:12:20,381 - initial_spectrafit -burstfit.fit - INFO - sigma_f: 1.6387720506816803 +- 0.30574753358312895\n",
      "2022-02-15 19:12:20,383 - sgram_fit -burstfit.fit - INFO - Running sgram profile fit for component: 1\n",
      "2022-02-15 19:12:20,386 - sgram_fit -burstfit.fit - INFO - initial estimate for parameters: [4.649306281130953, 1.6387720506816803, 76.96159895259306, 190.77731559296302, 2.267390852689768, 0.24702364318070202, 313.4]\n",
      "2022-02-15 19:12:20,534 - sgram_fit -burstfit.fit - INFO - Converged parameters are:\n",
      "2022-02-15 19:12:20,537 - sgram_fit -burstfit.fit - INFO - mu_f: 4.572868830989426 +- 0.2291724611754259\n",
      "2022-02-15 19:12:20,539 - sgram_fit -burstfit.fit - INFO - sigma_f: 1.802882279521539 +- 0.19274615996577749\n",
      "2022-02-15 19:12:20,541 - sgram_fit -burstfit.fit - INFO - S: 85.41194942030705 +- 13.952908037492584\n",
      "2022-02-15 19:12:20,543 - sgram_fit -burstfit.fit - INFO - mu_t: 190.9262077859834 +- 0.7093040240017596\n",
      "2022-02-15 19:12:20,544 - sgram_fit -burstfit.fit - INFO - sigma_t: 2.36607547896818 +- 0.012712917376005136\n",
      "2022-02-15 19:12:20,546 - sgram_fit -burstfit.fit - INFO - tau: 0.2536628625872551 +- 0.016932219351733356\n",
      "2022-02-15 19:12:20,547 - sgram_fit -burstfit.fit - INFO - DM: 313.3802149839008 +- 0.5148100691544076\n",
      "2022-02-15 19:12:20,549 - model -burstfit.fit - INFO - Making model.\n",
      "2022-02-15 19:12:20,550 - model -burstfit.fit - INFO - Found 1 components.\n",
      "2022-02-15 19:12:20,554 - get_off_pulse_region -burstfit.fit - INFO - mu_t and sigma_t found in params. Using those to estimate off pulse region.\n",
      "2022-02-15 19:12:20,556 - get_off_pulse_region -burstfit.fit - INFO - Using sgram fit parameters.\n",
      "2022-02-15 19:12:20,557 - model -burstfit.fit - INFO - Making model.\n",
      "2022-02-15 19:12:20,559 - model -burstfit.fit - INFO - Found 1 components.\n",
      "2022-02-15 19:12:20,563 - calc_redchisq -burstfit.fit - INFO - Reduced chi-square value of fit is: 1.015505260054632\n"
     ]
    },
    {
     "name": "stdout",
     "output_type": "stream",
     "text": [
      "bf.ncomponents=1\n"
     ]
    },
    {
     "name": "stderr",
     "output_type": "stream",
     "text": [
      "2022-02-15 19:12:20,567 - run_tests -burstfit.fit - INFO - Running statistical tests on the residual.\n",
      "2022-02-15 19:12:20,569 - run_tests -burstfit.fit - INFO - Running off pulse - off pulse test\n",
      "2022-02-15 19:12:20,573 - tests -root - INFO - P values: T-test (0.09416), Kruskal (0.05659), KS (0.04541), F-test (0.36453)\n",
      "2022-02-15 19:12:20,574 - run_tests -burstfit.fit - INFO - Running on pulse - off pulse (L) test\n",
      "2022-02-15 19:12:20,578 - tests -root - INFO - P values: T-test (0.00000), Kruskal (0.00000), KS (0.00007), F-test (0.00284)\n",
      "2022-02-15 19:12:20,580 - run_tests -burstfit.fit - INFO - Running on pulse - off pulse (R) test\n",
      "2022-02-15 19:12:20,584 - tests -root - INFO - P values: T-test (0.00068), Kruskal (0.01032), KS (0.15929), F-test (0.00769)\n",
      "2022-02-15 19:12:20,586 - fitcycle -burstfit.fit - INFO - Fitting component 1.\n",
      "2022-02-15 19:12:20,588 - initial_profilefit -burstfit.fit - INFO - Running initial profile fit for component: 1\n",
      "2022-02-15 19:12:20,620 - initial_profilefit -burstfit.fit - INFO - Converged parameters (profile fit) are:\n",
      "2022-02-15 19:12:20,623 - initial_profilefit -burstfit.fit - INFO - S: 76.96159895259306 +- 9.17774715322096\n",
      "2022-02-15 19:12:20,625 - initial_profilefit -burstfit.fit - INFO - mu_t: 190.77731559296302 +- 0.3122178727459853\n",
      "2022-02-15 19:12:20,627 - initial_profilefit -burstfit.fit - INFO - sigma_t: 2.267390852689768 +- 0.3122178767197027\n",
      "2022-02-15 19:12:20,629 - initial_profilefit -burstfit.fit - INFO - tau: 0.24702364318070202 +- 0.0\n",
      "2022-02-15 19:12:20,631 - make_spectra -burstfit.fit - INFO - Making spectra using profile fit parameters.\n",
      "2022-02-15 19:12:20,632 - initial_spectrafit -burstfit.fit - INFO - Running spectra profile fit for component: 1\n",
      "2022-02-15 19:12:20,642 - initial_spectrafit -burstfit.fit - INFO - Converged parameters (spectra fit) are:\n",
      "2022-02-15 19:12:20,643 - initial_spectrafit -burstfit.fit - INFO - mu_f: 4.649306281130953 +- 0.3668000919306018\n",
      "2022-02-15 19:12:20,645 - initial_spectrafit -burstfit.fit - INFO - sigma_f: 1.6387720506816803 +- 0.30574753358312895\n",
      "2022-02-15 19:12:20,647 - sgram_fit -burstfit.fit - INFO - Running sgram profile fit for component: 1\n",
      "2022-02-15 19:12:20,649 - sgram_fit -burstfit.fit - INFO - initial estimate for parameters: [4.649306281130953, 1.6387720506816803, 76.96159895259306, 190.77731559296302, 2.267390852689768, 0.24702364318070202, 313.4]\n",
      "2022-02-15 19:12:20,816 - sgram_fit -burstfit.fit - INFO - Converged parameters are:\n",
      "2022-02-15 19:12:20,818 - sgram_fit -burstfit.fit - INFO - mu_f: 4.572868830989426 +- 0.2291724611754259\n",
      "2022-02-15 19:12:20,821 - sgram_fit -burstfit.fit - INFO - sigma_f: 1.802882279521539 +- 0.19274615996577749\n",
      "2022-02-15 19:12:20,823 - sgram_fit -burstfit.fit - INFO - S: 85.41194942030705 +- 13.952908037492584\n",
      "2022-02-15 19:12:20,826 - sgram_fit -burstfit.fit - INFO - mu_t: 190.9262077859834 +- 0.7093040240017596\n",
      "2022-02-15 19:12:20,828 - sgram_fit -burstfit.fit - INFO - sigma_t: 2.36607547896818 +- 0.012712917376005136\n",
      "2022-02-15 19:12:20,831 - sgram_fit -burstfit.fit - INFO - tau: 0.2536628625872551 +- 0.016932219351733356\n",
      "2022-02-15 19:12:20,833 - sgram_fit -burstfit.fit - INFO - DM: 313.3802149839008 +- 0.5148100691544076\n",
      "2022-02-15 19:12:20,836 - model -burstfit.fit - INFO - Making model.\n",
      "2022-02-15 19:12:20,839 - model -burstfit.fit - INFO - Found 1 components.\n",
      "2022-02-15 19:12:20,844 - get_off_pulse_region -burstfit.fit - INFO - mu_t and sigma_t found in params. Using those to estimate off pulse region.\n",
      "2022-02-15 19:12:20,846 - get_off_pulse_region -burstfit.fit - INFO - Using sgram fit parameters.\n",
      "2022-02-15 19:12:20,848 - model -burstfit.fit - INFO - Making model.\n",
      "2022-02-15 19:12:20,850 - model -burstfit.fit - INFO - Found 1 components.\n",
      "2022-02-15 19:12:20,855 - calc_redchisq -burstfit.fit - INFO - Reduced chi-square value of fit is: 1.015505260054632\n",
      "2022-02-15 19:12:20,857 - run_tests -burstfit.fit - INFO - Running statistical tests on the residual.\n",
      "2022-02-15 19:12:20,858 - run_tests -burstfit.fit - INFO - Running off pulse - off pulse test\n",
      "2022-02-15 19:12:20,862 - tests -root - INFO - P values: T-test (0.09416), Kruskal (0.05659), KS (0.04541), F-test (0.36453)\n",
      "2022-02-15 19:12:20,864 - run_tests -burstfit.fit - INFO - Running on pulse - off pulse (L) test\n",
      "2022-02-15 19:12:20,868 - tests -root - INFO - P values: T-test (0.56786), Kruskal (0.84390), KS (0.03188), F-test (0.70690)\n",
      "2022-02-15 19:12:20,869 - run_tests -burstfit.fit - INFO - On pulse residual is similar to left off pulse region.\n",
      "2022-02-15 19:12:20,871 - run_tests -burstfit.fit - INFO - Running on pulse - off pulse (R) test\n",
      "2022-02-15 19:12:20,875 - tests -root - INFO - P values: T-test (0.24862), Kruskal (0.04103), KS (0.00013), F-test (0.81338)\n",
      "2022-02-15 19:12:20,877 - run_tests -burstfit.fit - INFO - On pulse residual is similar to right off pulse region.\n",
      "2022-02-15 19:12:20,879 - fitall -burstfit.fit - INFO - On pulse residual looks like noise. Terminating individual component fitting.\n",
      "2022-02-15 19:12:20,880 - fitall -burstfit.fit - INFO - Final number of components = 1. Terminating fitting.\n",
      "2022-02-15 19:12:20,883 - get_off_pulse_region -burstfit.fit - INFO - mu_t and sigma_t found in params. Using those to estimate off pulse region.\n",
      "2022-02-15 19:12:20,885 - get_off_pulse_region -burstfit.fit - INFO - Using sgram all-component-fit parameters.\n"
     ]
    },
    {
     "name": "stdout",
     "output_type": "stream",
     "text": [
      "bf.ncomponents=1\n"
     ]
    },
    {
     "data": {
      "text/plain": [
       "{1: {'popt': [4.572868830989426,\n",
       "   1.802882279521539,\n",
       "   85.41194942030705,\n",
       "   190.9262077859834,\n",
       "   2.36607547896818,\n",
       "   0.2536628625872551,\n",
       "   313.3802149839008],\n",
       "  'perr': array([2.29172461e-01, 1.92746160e-01, 1.39529080e+01, 7.09304024e-01,\n",
       "         1.27129174e-02, 1.69322194e-02, 5.14810069e-01])},\n",
       " 'all': {1: {'popt': [4.572868830989426,\n",
       "    1.802882279521539,\n",
       "    85.41194942030705,\n",
       "    190.9262077859834,\n",
       "    2.36607547896818,\n",
       "    0.2536628625872551,\n",
       "    313.3802149839008],\n",
       "   'perr': array([2.29172461e-01, 1.92746160e-01, 1.39529080e+01, 7.09304024e-01,\n",
       "          1.27129174e-02, 1.69322194e-02, 5.14810069e-01])}}}"
      ]
     },
     "execution_count": 4,
     "metadata": {},
     "output_type": "execute_result"
    }
   ],
   "source": [
    "bf.fitcycle(plot=False)\n",
    "print('bf.ncomponents=%d'%bf.ncomponents)\n",
    "\n",
    "# fit all componnts \n",
    "bf.fitall(plot=False) \n",
    "print('bf.ncomponents=%d'%bf.ncomponents)\n",
    "\n",
    "bf.sgram_params"
   ]
  },
  {
   "cell_type": "code",
   "execution_count": 5,
   "metadata": {},
   "outputs": [
    {
     "name": "stderr",
     "output_type": "stream",
     "text": [
      "2022-02-15 19:12:21,085 - set_initial_pos -root - INFO - Setting initial positions for MCMC.\n",
      "2022-02-15 19:12:21,089 - set_initial_pos -burstfit.mcmc - INFO - Initial guess for MCMC is: [4.57286883e+00 1.80288228e+00 8.54119494e+01 1.90926208e+02\n",
      " 2.36607548e+00 2.53662863e-01 3.13380215e+02]\n",
      "2022-02-15 19:12:21,101 - set_priors -burstfit.mcmc - INFO - Setting priors for MCMC.\n",
      "2022-02-15 19:12:21,103 - set_priors -burstfit.mcmc - INFO - Found tau in param_names. Setting its min value of prior to 0.\n",
      "2022-02-15 19:12:21,105 - set_priors -burstfit.mcmc - INFO - Found sigma_t in param_names. Setting its min value of prior to 0.\n",
      "2022-02-15 19:12:21,107 - set_priors -burstfit.mcmc - INFO - Found sigma_t and tau in param_names. Setting its max value of prior to 2*(max_tau_prior(0.45659315265705924) + max_sigma_t_prior(4.2589358621427245))\n",
      "2022-02-15 19:12:21,109 - set_priors -burstfit.mcmc - INFO - Found S and sigma_t in param_names. Setting its max value of prior to 500*max(ts)*max_sigma_t_prior. Setting its min value of prior to 0.\n",
      "2022-02-15 19:12:21,111 - set_priors -burstfit.mcmc - INFO - Found mu_f in param_names. Setting its priors to (-2*nf, 3*nf)\n",
      "2022-02-15 19:12:21,112 - set_priors -burstfit.mcmc - INFO - Found sigma_f in param_names. Setting its priors to (0, 5*nf)\n",
      "2022-02-15 19:12:21,126 - run_mcmc -burstfit.mcmc - INFO - Running MCMC with the following parameters: nwalkers=60, nsteps=10000, start_pos_dev=0.01, ncores=4, skip=500\n",
      "2022-02-15 19:12:21,127 - run_mcmc -burstfit.mcmc - INFO - Priors used in MCMC are:\n",
      "2022-02-15 19:12:21,129 - run_mcmc -burstfit.mcmc - INFO - mu_f_1: [-16.0, 24.0]\n",
      "2022-02-15 19:12:21,131 - run_mcmc -burstfit.mcmc - INFO - sigma_f_1: [0.0, 40.0]\n",
      "2022-02-15 19:12:21,133 - run_mcmc -burstfit.mcmc - INFO - S_1: [0.0, 32692.768025578374]\n",
      "2022-02-15 19:12:21,135 - run_mcmc -burstfit.mcmc - INFO - mu_t_1: [38.18524155719667, 343.6671740147701]\n",
      "2022-02-15 19:12:21,137 - run_mcmc -burstfit.mcmc - INFO - sigma_t_1: [0.0, 9.431058029599567]\n",
      "2022-02-15 19:12:21,138 - run_mcmc -burstfit.mcmc - INFO - tau_1: [0.0, 9.431058029599567]\n",
      "2022-02-15 19:12:21,140 - run_mcmc -burstfit.mcmc - INFO - DM_1: [62.676042996780154, 564.0843869710216]\n",
      " 64%|██████▍   | 6388/10000 [06:57<03:56, 15.29it/s]\n"
     ]
    },
    {
     "ename": "IndexError",
     "evalue": "Index (0) out of range for empty dimension",
     "output_type": "error",
     "traceback": [
      "\u001b[0;31m---------------------------------------------------------------------------\u001b[0m",
      "\u001b[0;31mIndexError\u001b[0m                                Traceback (most recent call last)",
      "\u001b[0;32m<ipython-input-5-ab468e94939c>\u001b[0m in \u001b[0;36m<module>\u001b[0;34m\u001b[0m\n\u001b[1;32m     10\u001b[0m            'outname':'test_file'}\n\u001b[1;32m     11\u001b[0m \u001b[0;34m\u001b[0m\u001b[0m\n\u001b[0;32m---> 12\u001b[0;31m \u001b[0mbf\u001b[0m\u001b[0;34m.\u001b[0m\u001b[0mrun_mcmc\u001b[0m\u001b[0;34m(\u001b[0m\u001b[0mplot\u001b[0m\u001b[0;34m=\u001b[0m\u001b[0;32mTrue\u001b[0m\u001b[0;34m,\u001b[0m \u001b[0;34m**\u001b[0m\u001b[0mmcmc_kwargs\u001b[0m\u001b[0;34m)\u001b[0m\u001b[0;34m\u001b[0m\u001b[0;34m\u001b[0m\u001b[0m\n\u001b[0m\u001b[1;32m     13\u001b[0m \u001b[0;34m\u001b[0m\u001b[0m\n",
      "\u001b[0;32m~/anaconda3/envs/casa/lib/python3.6/site-packages/burstfit-0.1.1-py3.6.egg/burstfit/fit.py\u001b[0m in \u001b[0;36mrun_mcmc\u001b[0;34m(self, plot, nwalkers, nsteps, skip, ncores, start_pos_dev, prior_range, save_results, outname)\u001b[0m\n\u001b[1;32m    580\u001b[0m             \u001b[0msave_results\u001b[0m\u001b[0;34m,\u001b[0m\u001b[0;34m\u001b[0m\u001b[0;34m\u001b[0m\u001b[0m\n\u001b[1;32m    581\u001b[0m         )\n\u001b[0;32m--> 582\u001b[0;31m         \u001b[0mself\u001b[0m\u001b[0;34m.\u001b[0m\u001b[0mmcmc\u001b[0m\u001b[0;34m.\u001b[0m\u001b[0mrun_mcmc\u001b[0m\u001b[0;34m(\u001b[0m\u001b[0;34m)\u001b[0m\u001b[0;34m\u001b[0m\u001b[0;34m\u001b[0m\u001b[0m\n\u001b[0m\u001b[1;32m    583\u001b[0m         \u001b[0;32mif\u001b[0m \u001b[0;32mnot\u001b[0m \u001b[0mnp\u001b[0m\u001b[0;34m.\u001b[0m\u001b[0many\u001b[0m\u001b[0;34m(\u001b[0m\u001b[0mself\u001b[0m\u001b[0;34m.\u001b[0m\u001b[0mmcmc\u001b[0m\u001b[0;34m.\u001b[0m\u001b[0msamples\u001b[0m\u001b[0;34m)\u001b[0m\u001b[0;34m:\u001b[0m\u001b[0;34m\u001b[0m\u001b[0;34m\u001b[0m\u001b[0m\n\u001b[1;32m    584\u001b[0m             \u001b[0mself\u001b[0m\u001b[0;34m.\u001b[0m\u001b[0mmcmc\u001b[0m\u001b[0;34m.\u001b[0m\u001b[0mget_chain\u001b[0m\u001b[0;34m(\u001b[0m\u001b[0;34m)\u001b[0m\u001b[0;34m\u001b[0m\u001b[0;34m\u001b[0m\u001b[0m\n",
      "\u001b[0;32m~/anaconda3/envs/casa/lib/python3.6/site-packages/burstfit-0.1.1-py3.6.egg/burstfit/mcmc.py\u001b[0m in \u001b[0;36mrun_mcmc\u001b[0;34m(self)\u001b[0m\n\u001b[1;32m    282\u001b[0m             )\n\u001b[1;32m    283\u001b[0m             for sample in sampler.sample(\n\u001b[0;32m--> 284\u001b[0;31m                 \u001b[0mself\u001b[0m\u001b[0;34m.\u001b[0m\u001b[0mpos\u001b[0m\u001b[0;34m,\u001b[0m \u001b[0miterations\u001b[0m\u001b[0;34m=\u001b[0m\u001b[0mself\u001b[0m\u001b[0;34m.\u001b[0m\u001b[0mnsteps\u001b[0m\u001b[0;34m,\u001b[0m \u001b[0mprogress\u001b[0m\u001b[0;34m=\u001b[0m\u001b[0;32mTrue\u001b[0m\u001b[0;34m,\u001b[0m \u001b[0mstore\u001b[0m\u001b[0;34m=\u001b[0m\u001b[0;32mTrue\u001b[0m\u001b[0;34m\u001b[0m\u001b[0;34m\u001b[0m\u001b[0m\n\u001b[0m\u001b[1;32m    285\u001b[0m             ):\n\u001b[1;32m    286\u001b[0m                 \u001b[0;32mif\u001b[0m \u001b[0msampler\u001b[0m\u001b[0;34m.\u001b[0m\u001b[0miteration\u001b[0m \u001b[0;34m%\u001b[0m \u001b[0;36m100\u001b[0m\u001b[0;34m:\u001b[0m\u001b[0;34m\u001b[0m\u001b[0;34m\u001b[0m\u001b[0m\n",
      "\u001b[0;32m~/anaconda3/envs/casa/lib/python3.6/site-packages/emcee/ensemble.py\u001b[0m in \u001b[0;36msample\u001b[0;34m(self, initial_state, log_prob0, rstate0, blobs0, iterations, tune, skip_initial_state_check, thin_by, thin, store, progress)\u001b[0m\n\u001b[1;32m    403\u001b[0m                     \u001b[0;31m# Save the new step\u001b[0m\u001b[0;34m\u001b[0m\u001b[0;34m\u001b[0m\u001b[0;34m\u001b[0m\u001b[0m\n\u001b[1;32m    404\u001b[0m                     \u001b[0;32mif\u001b[0m \u001b[0mstore\u001b[0m \u001b[0;32mand\u001b[0m \u001b[0;34m(\u001b[0m\u001b[0mi\u001b[0m \u001b[0;34m+\u001b[0m \u001b[0;36m1\u001b[0m\u001b[0;34m)\u001b[0m \u001b[0;34m%\u001b[0m \u001b[0mcheckpoint_step\u001b[0m \u001b[0;34m==\u001b[0m \u001b[0;36m0\u001b[0m\u001b[0;34m:\u001b[0m\u001b[0;34m\u001b[0m\u001b[0;34m\u001b[0m\u001b[0m\n\u001b[0;32m--> 405\u001b[0;31m                         \u001b[0mself\u001b[0m\u001b[0;34m.\u001b[0m\u001b[0mbackend\u001b[0m\u001b[0;34m.\u001b[0m\u001b[0msave_step\u001b[0m\u001b[0;34m(\u001b[0m\u001b[0mstate\u001b[0m\u001b[0;34m,\u001b[0m \u001b[0maccepted\u001b[0m\u001b[0;34m)\u001b[0m\u001b[0;34m\u001b[0m\u001b[0;34m\u001b[0m\u001b[0m\n\u001b[0m\u001b[1;32m    406\u001b[0m \u001b[0;34m\u001b[0m\u001b[0m\n\u001b[1;32m    407\u001b[0m                     \u001b[0mpbar\u001b[0m\u001b[0;34m.\u001b[0m\u001b[0mupdate\u001b[0m\u001b[0;34m(\u001b[0m\u001b[0;36m1\u001b[0m\u001b[0;34m)\u001b[0m\u001b[0;34m\u001b[0m\u001b[0;34m\u001b[0m\u001b[0m\n",
      "\u001b[0;32m~/anaconda3/envs/casa/lib/python3.6/site-packages/emcee/backends/hdf.py\u001b[0m in \u001b[0;36msave_step\u001b[0;34m(self, state, accepted)\u001b[0m\n\u001b[1;32m    256\u001b[0m             \u001b[0miteration\u001b[0m \u001b[0;34m=\u001b[0m \u001b[0mg\u001b[0m\u001b[0;34m.\u001b[0m\u001b[0mattrs\u001b[0m\u001b[0;34m[\u001b[0m\u001b[0;34m\"iteration\"\u001b[0m\u001b[0;34m]\u001b[0m\u001b[0;34m\u001b[0m\u001b[0;34m\u001b[0m\u001b[0m\n\u001b[1;32m    257\u001b[0m \u001b[0;34m\u001b[0m\u001b[0m\n\u001b[0;32m--> 258\u001b[0;31m             \u001b[0mg\u001b[0m\u001b[0;34m[\u001b[0m\u001b[0;34m\"chain\"\u001b[0m\u001b[0;34m]\u001b[0m\u001b[0;34m[\u001b[0m\u001b[0miteration\u001b[0m\u001b[0;34m,\u001b[0m \u001b[0;34m:\u001b[0m\u001b[0;34m,\u001b[0m \u001b[0;34m:\u001b[0m\u001b[0;34m]\u001b[0m \u001b[0;34m=\u001b[0m \u001b[0mstate\u001b[0m\u001b[0;34m.\u001b[0m\u001b[0mcoords\u001b[0m\u001b[0;34m\u001b[0m\u001b[0;34m\u001b[0m\u001b[0m\n\u001b[0m\u001b[1;32m    259\u001b[0m             \u001b[0mg\u001b[0m\u001b[0;34m[\u001b[0m\u001b[0;34m\"log_prob\"\u001b[0m\u001b[0;34m]\u001b[0m\u001b[0;34m[\u001b[0m\u001b[0miteration\u001b[0m\u001b[0;34m,\u001b[0m \u001b[0;34m:\u001b[0m\u001b[0;34m]\u001b[0m \u001b[0;34m=\u001b[0m \u001b[0mstate\u001b[0m\u001b[0;34m.\u001b[0m\u001b[0mlog_prob\u001b[0m\u001b[0;34m\u001b[0m\u001b[0;34m\u001b[0m\u001b[0m\n\u001b[1;32m    260\u001b[0m             \u001b[0;32mif\u001b[0m \u001b[0mstate\u001b[0m\u001b[0;34m.\u001b[0m\u001b[0mblobs\u001b[0m \u001b[0;32mis\u001b[0m \u001b[0;32mnot\u001b[0m \u001b[0;32mNone\u001b[0m\u001b[0;34m:\u001b[0m\u001b[0;34m\u001b[0m\u001b[0;34m\u001b[0m\u001b[0m\n",
      "\u001b[0;32mh5py/_objects.pyx\u001b[0m in \u001b[0;36mh5py._objects.with_phil.wrapper\u001b[0;34m()\u001b[0m\n",
      "\u001b[0;32mh5py/_objects.pyx\u001b[0m in \u001b[0;36mh5py._objects.with_phil.wrapper\u001b[0;34m()\u001b[0m\n",
      "\u001b[0;32m~/anaconda3/envs/casa/lib/python3.6/site-packages/h5py/_hl/dataset.py\u001b[0m in \u001b[0;36m__setitem__\u001b[0;34m(self, args, val)\u001b[0m\n\u001b[1;32m    908\u001b[0m \u001b[0;34m\u001b[0m\u001b[0m\n\u001b[1;32m    909\u001b[0m         \u001b[0;31m# Perform the dataspace selection\u001b[0m\u001b[0;34m\u001b[0m\u001b[0;34m\u001b[0m\u001b[0;34m\u001b[0m\u001b[0m\n\u001b[0;32m--> 910\u001b[0;31m         \u001b[0mselection\u001b[0m \u001b[0;34m=\u001b[0m \u001b[0msel\u001b[0m\u001b[0;34m.\u001b[0m\u001b[0mselect\u001b[0m\u001b[0;34m(\u001b[0m\u001b[0mself\u001b[0m\u001b[0;34m.\u001b[0m\u001b[0mshape\u001b[0m\u001b[0;34m,\u001b[0m \u001b[0margs\u001b[0m\u001b[0;34m,\u001b[0m \u001b[0mdataset\u001b[0m\u001b[0;34m=\u001b[0m\u001b[0mself\u001b[0m\u001b[0;34m)\u001b[0m\u001b[0;34m\u001b[0m\u001b[0;34m\u001b[0m\u001b[0m\n\u001b[0m\u001b[1;32m    911\u001b[0m \u001b[0;34m\u001b[0m\u001b[0m\n\u001b[1;32m    912\u001b[0m         \u001b[0;32mif\u001b[0m \u001b[0mselection\u001b[0m\u001b[0;34m.\u001b[0m\u001b[0mnselect\u001b[0m \u001b[0;34m==\u001b[0m \u001b[0;36m0\u001b[0m\u001b[0;34m:\u001b[0m\u001b[0;34m\u001b[0m\u001b[0;34m\u001b[0m\u001b[0m\n",
      "\u001b[0;32m~/anaconda3/envs/casa/lib/python3.6/site-packages/h5py/_hl/selections.py\u001b[0m in \u001b[0;36mselect\u001b[0;34m(shape, args, dataset)\u001b[0m\n\u001b[1;32m     80\u001b[0m         \u001b[0mselector\u001b[0m \u001b[0;34m=\u001b[0m \u001b[0m_selector\u001b[0m\u001b[0;34m.\u001b[0m\u001b[0mSelector\u001b[0m\u001b[0;34m(\u001b[0m\u001b[0mspace\u001b[0m\u001b[0;34m)\u001b[0m\u001b[0;34m\u001b[0m\u001b[0;34m\u001b[0m\u001b[0m\n\u001b[1;32m     81\u001b[0m \u001b[0;34m\u001b[0m\u001b[0m\n\u001b[0;32m---> 82\u001b[0;31m     \u001b[0;32mreturn\u001b[0m \u001b[0mselector\u001b[0m\u001b[0;34m.\u001b[0m\u001b[0mmake_selection\u001b[0m\u001b[0;34m(\u001b[0m\u001b[0margs\u001b[0m\u001b[0;34m)\u001b[0m\u001b[0;34m\u001b[0m\u001b[0;34m\u001b[0m\u001b[0m\n\u001b[0m\u001b[1;32m     83\u001b[0m \u001b[0;34m\u001b[0m\u001b[0m\n\u001b[1;32m     84\u001b[0m \u001b[0;34m\u001b[0m\u001b[0m\n",
      "\u001b[0;32mh5py/_selector.pyx\u001b[0m in \u001b[0;36mh5py._selector.Selector.make_selection\u001b[0;34m()\u001b[0m\n",
      "\u001b[0;32mh5py/_selector.pyx\u001b[0m in \u001b[0;36mh5py._selector.Selector.apply_args\u001b[0;34m()\u001b[0m\n",
      "\u001b[0;31mIndexError\u001b[0m: Index (0) out of range for empty dimension"
     ]
    }
   ],
   "source": [
    "# MCMC \n",
    "# nwalker >= dimention + 1 \n",
    "# nstep until getting smooth parameter distributions \n",
    "mcmc_kwargs = {}\n",
    "mcmc_kwargs = {'nwalkers':60, 'nsteps':int(1e4),\n",
    "           'skip':500, 'ncores':4, \n",
    "           'start_pos_dev':0.01,\n",
    "           'prior_range':0.8, \n",
    "           'save_results':True,\n",
    "           'outname':'test_file'}\n",
    "\n",
    "bf.run_mcmc(plot=True, **mcmc_kwargs)\n",
    "\n"
   ]
  },
  {
   "cell_type": "code",
   "execution_count": null,
   "metadata": {},
   "outputs": [],
   "source": []
  },
  {
   "cell_type": "code",
   "execution_count": null,
   "metadata": {},
   "outputs": [],
   "source": [
    "# save fitting results \n",
    "bd.prepare_data()\n",
    "bio = BurstIO(bf, bd)\n",
    "d = bio.save_results(outname=save_name+\"_fit_results.json\", outdir=save_dir)  "
   ]
  },
  {
   "cell_type": "code",
   "execution_count": null,
   "metadata": {},
   "outputs": [],
   "source": [
    "# do not delete this cell. \n",
    "# fit again using the new DM result dm_fit\n",
    "# data, datadm, tsdm0, dms, datadm0 = ff.proc_cand_fil(fil_file, dm_fit, bd.width, nfreq_plot=nfreq, ndm=32)\n",
    "# data_burst = data[:,int(0.45/bd.tsamp): int(0.55/bd.tsamp)]\n",
    "# bf.sgram = data_burst\n",
    "# bf.dm = dm_fit\n",
    "# bd.dm = dm_fit \n",
    "\n",
    "# plt.plot(range(len(data_burst.mean(0))), data_burst.mean(0))\n",
    "# plt.xlabel('Time Sample using new DM')\n",
    "\n",
    "# bf.fitall(plot=False)\n",
    "# plot_fit_results(bf.sgram, bf.sgram_model.evaluate, bf.sgram_params['all'][1]['popt'], \n",
    "#                  bf.tsamp, bf.fch1, bf.foff, show=True, save=True, outname=save_name+'2d_fit_res'+'_dm_burstfit', outdir=save_dir)\n"
   ]
  },
  {
   "cell_type": "code",
   "execution_count": null,
   "metadata": {},
   "outputs": [],
   "source": [
    "bf.mcmc_params\n",
    "d['param_names']"
   ]
  },
  {
   "cell_type": "code",
   "execution_count": 14,
   "metadata": {},
   "outputs": [],
   "source": [
    "# saving key burst paramters \n",
    "mu_f_mcmc, sigma_f_mcmc, s_mcmc, mu_t_mcmc, sigma_t_mcmc, tau_mcmc, dm_mcmc = bf.mcmc_params[1]['popt']\n",
    "mu_f_mcmc_err, sigma_f_mcmc_err, s_mcmc_err, mu_t_mcmc_err, sigma_t_mcmc_err, tau_mcmc_err, dm_mcmc_err = bf.mcmc_params[1]['perr']\n",
    "\n",
    "t0 = 0.45 + mu_t_mcmc * bd.tsamp\n",
    "t0_err = [i * bd.tsamp for i in mu_t_mcmc_err] \n",
    "\n",
    "width_ms = sigma_t_mcmc * bd.tsamp * 1e3 # in ms\n",
    "width_ms_err = [i * bd.tsamp for i in sigma_t_mcmc_err] \n",
    "\n",
    "# with open(save_dir+save_name+\"_fit_key_results.txt\") as f:\n",
    "#     print('mu_f_mcmc, sigma_f_mcmc, s_mcmc, mu_t_mcmc, sigma_t_mcmc, tau_mcmc, dm_mcmc')\n",
    "#     print(bf.mcmc_params[1]['popt'])\n",
    "#     print('lower, upper bounds')\n",
    "#     print(bf.mcmc_params[1]['perr'])\n",
    "\n",
    "#outname=save_name+\"_fit_results.json\", outdir=save_dir"
   ]
  },
  {
   "cell_type": "code",
   "execution_count": 15,
   "metadata": {},
   "outputs": [
    {
     "name": "stderr",
     "output_type": "stream",
     "text": [
      "2022-01-24 18:12:09,946 - model -burstfit.fit - INFO - Making model.\n",
      "2022-01-24 18:12:09,949 - model -burstfit.fit - INFO - Found 1 components.\n"
     ]
    }
   ],
   "source": [
    "rms_res = np.sqrt(sum(bf.residual.mean(0)**2) / len(bf.residual.mean(0)))\n",
    "\n",
    "rms_res = np.sqrt(sum(data.mean(0)**2) / len(data.mean(0)))\n",
    "\n",
    "snr = max(bf.model.mean(0)) / rms_res "
   ]
  },
  {
   "cell_type": "code",
   "execution_count": 16,
   "metadata": {},
   "outputs": [
    {
     "name": "stdout",
     "output_type": "stream",
     "text": [
      "0.3548603331333626\n",
      "0.3286500444810634\n",
      "1.9220542\n"
     ]
    }
   ],
   "source": [
    "print(np.sqrt(sum(data.mean(0)**2) / len(data.mean(0))))\n",
    "print(np.sqrt(sum(bf.residual.mean(0)**2) / len(bf.residual.mean(0))))\n",
    "print(max(data.mean(0)))"
   ]
  },
  {
   "cell_type": "code",
   "execution_count": 17,
   "metadata": {},
   "outputs": [
    {
     "data": {
      "text/plain": [
       "0.9567291488430655"
      ]
     },
     "execution_count": 17,
     "metadata": {},
     "output_type": "execute_result"
    }
   ],
   "source": [
    "sum(bf.residual.mean(0)**2) / len(bf.residual.mean(0))\n",
    "dm_mcmc\n",
    "sigma_t_mcmc"
   ]
  },
  {
   "cell_type": "code",
   "execution_count": 18,
   "metadata": {},
   "outputs": [],
   "source": [
    "data_mcmc_dm = ff.proc_cand_fil(fil_file, dm_mcmc, sigma_f_mcmc, nfreq_plot=nfreq, ndm=32)[0]\n"
   ]
  },
  {
   "cell_type": "code",
   "execution_count": 19,
   "metadata": {},
   "outputs": [
    {
     "data": {
      "text/plain": [
       "6.100199784287315"
      ]
     },
     "execution_count": 19,
     "metadata": {},
     "output_type": "execute_result"
    }
   ],
   "source": [
    "#snr_himdall?  \n",
    "max(data_mcmc_dm.mean(0)) / np.sqrt(sum(data_mcmc_dm.mean(0)**2) / len(data_mcmc_dm.mean(0)))\n",
    "\n"
   ]
  },
  {
   "cell_type": "code",
   "execution_count": 20,
   "metadata": {},
   "outputs": [
    {
     "data": {
      "image/png": "[encoded data removed]",
      "text/plain": [
       "<Figure size 432x288 with 2 Axes>"
      ]
     },
     "metadata": {
      "needs_background": "light"
     },
     "output_type": "display_data"
    }
   ],
   "source": [
    "fig, ax = plt.subplots(2, 1, sharex=True)\n",
    "ax[0].plot(range(len(data.mean(0)[int(0.48/bd.tsamp): int(0.52/bd.tsamp)])), data.mean(0)[int(0.48/bd.tsamp): int(0.52/bd.tsamp)])\n",
    "ax[0].set_title('Using heimdall DM: SNR=%d?'%bd.snr)\n",
    "\n",
    "ax[1].plot(range(len(data_mcmc_dm.mean(0)[int(0.48/bd.tsamp): int(0.52/bd.tsamp)])), data_mcmc_dm.mean(0)[int(0.48/bd.tsamp): int(0.52/bd.tsamp)])\n",
    "ax[1].set_xlabel('Time Sample')\n",
    "ax[1].set_title('Using burstfit DM: SNR=')\n",
    "fig.savefig(save_name + 'burst.pdf')"
   ]
  },
  {
   "cell_type": "code",
   "execution_count": 21,
   "metadata": {},
   "outputs": [
    {
     "data": {
      "text/plain": [
       "{1: {'popt': [4.708031244884689,\n",
       "   1.85280016354413,\n",
       "   90.85737756644824,\n",
       "   187.8991723270993,\n",
       "   0.9567291488430655,\n",
       "   2.2145336012418158,\n",
       "   314.0674867854782],\n",
       "  'perr': [[0.24465106023286687, 0.24250744080276831],\n",
       "   [0.2512486159717484, 0.3158300338000739],\n",
       "   [12.792131298028593, 14.462276833939455],\n",
       "   [1.0983315792561825, 1.2984426080577691],\n",
       "   [0.5072899812359954, 0.6281460277956125],\n",
       "   [0.7524568552423347, 0.6960233914243763],\n",
       "   [0.7112840495276487, 0.6506028843043623]]}}"
      ]
     },
     "execution_count": 21,
     "metadata": {},
     "output_type": "execute_result"
    }
   ],
   "source": [
    "bf.mcmc_params"
   ]
  },
  {
   "cell_type": "code",
   "execution_count": 22,
   "metadata": {},
   "outputs": [
    {
     "data": {
      "text/plain": [
       "382"
      ]
     },
     "execution_count": 22,
     "metadata": {},
     "output_type": "execute_result"
    }
   ],
   "source": [
    "len(data_burst.mean(0))"
   ]
  },
  {
   "cell_type": "code",
   "execution_count": null,
   "metadata": {},
   "outputs": [],
   "source": []
  }
 ],
 "metadata": {
  "kernelspec": {
   "display_name": "casa",
   "language": "python",
   "name": "casa"
  },
  "language_info": {
   "codemirror_mode": {
    "name": "ipython",
    "version": 3
   },
   "file_extension": ".py",
   "mimetype": "text/x-python",
   "name": "python",
   "nbconvert_exporter": "python",
   "pygments_lexer": "ipython3",
   "version": "3.6.10"
  }
 },
 "nbformat": 4,
 "nbformat_minor": 2
}
