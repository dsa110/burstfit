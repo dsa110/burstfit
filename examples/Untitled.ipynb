{
 "cells": [
  {
   "cell_type": "code",
   "execution_count": 1,
   "metadata": {},
   "outputs": [
    {
     "name": "stdout",
     "output_type": "stream",
     "text": [
      "slack package is deprecated. Please use slack_sdk.web/webhook/rtm package instead. For more info, go to https://slack.dev/python-slack-sdk/v3-migration/\n",
      "voeventparse not available. cannot create voevents\n",
      "datacite not found. cannot create DOIs\n",
      "caltechdata_api not found.\n",
      "datacite/tind env not found. Cannot use datacite API\n"
     ]
    },
    {
     "name": "stderr",
     "output_type": "stream",
     "text": [
      "2022-07-26 19:06:09,112 - prepare_data -burstfit.data - INFO - Preparing data for burst fitting.\n",
      "2022-07-26 19:06:09,114 - get_chunk -root - INFO - Padding with median in the beginning\n",
      "2022-07-26 19:06:09,469 - crop_dedispersed_data -burstfit.data - INFO - Cropping data with time_window: 0.2s.\n",
      "2022-07-26 19:06:09,470 - normalise_data -burstfit.data - INFO - Normalising data using off pulse mean and std.\n",
      "2022-07-26 19:06:09,584 - normalise_data -burstfit.data - INFO - Off pulse mean and std are: (35.74838992974239, 21.096309836946098)\n"
     ]
    },
    {
     "name": "stdout",
     "output_type": "stream",
     "text": [
      "using filterbank  /dataz/dsa110/operations/T1//220726aaav_inj10/220726aaav_inj10_37.fil\n",
      "Only using Heimdall filterbank.\n"
     ]
    },
    {
     "name": "stderr",
     "output_type": "stream",
     "text": [
      "2022-07-26 19:06:10,577 - run_tests -burstfit.fit - INFO - Running statistical tests on the residual.\n",
      "2022-07-26 19:06:10,580 - run_tests -burstfit.fit - INFO - Running off pulse - off pulse test\n",
      "2022-07-26 19:06:10,584 - tests -root - INFO - P values: T-test (0.46534), Kruskal (0.43047), KS (0.73405), F-test (0.10083)\n",
      "2022-07-26 19:06:10,585 - run_tests -burstfit.fit - INFO - Running on pulse - off pulse (L) test\n",
      "2022-07-26 19:06:10,589 - tests -root - INFO - P values: T-test (0.00014), Kruskal (0.00099), KS (0.00105), F-test (0.00000)\n",
      "2022-07-26 19:06:10,589 - run_tests -burstfit.fit - INFO - Running on pulse - off pulse (R) test\n",
      "2022-07-26 19:06:10,593 - tests -root - INFO - P values: T-test (0.00002), Kruskal (0.00016), KS (0.00004), F-test (0.00020)\n",
      "2022-07-26 19:06:10,594 - fitall -burstfit.fit - WARNING - Input profile bounds detected. Using them for component 1\n",
      "2022-07-26 19:06:10,594 - fitcycle -burstfit.fit - INFO - Fitting component 1.\n",
      "2022-07-26 19:06:10,595 - initial_profilefit -burstfit.fit - INFO - Running initial profile fit for component: 1\n",
      "2022-07-26 19:06:10,627 - initial_profilefit -burstfit.fit - INFO - Converged parameters (profile fit) are:\n",
      "2022-07-26 19:06:10,628 - initial_profilefit -burstfit.fit - INFO - S: 104.12396180124529 +- 8.799769159949372\n",
      "2022-07-26 19:06:10,628 - initial_profilefit -burstfit.fit - INFO - mu_t: 75.92724521616208 +- 0.5706782005742688\n",
      "2022-07-26 19:06:10,629 - initial_profilefit -burstfit.fit - INFO - sigma_t: 5.413642990160683 +- 0.052281824365032724\n",
      "2022-07-26 19:06:10,629 - initial_profilefit -burstfit.fit - INFO - tau: 1.0304417603679135 +- 0.002986516515010298\n",
      "2022-07-26 19:06:10,630 - make_spectra -burstfit.fit - INFO - Making spectra using profile fit parameters.\n",
      "2022-07-26 19:06:10,631 - initial_spectrafit -burstfit.fit - INFO - Running spectra profile fit for component: 1\n",
      "2022-07-26 19:06:10,632 - initial_spectrafit -burstfit.fit - INFO - Converged parameters (spectra fit) are:\n",
      "2022-07-26 19:06:10,633 - initial_spectrafit -burstfit.fit - INFO - c0: 0.2117425501346588 +- 0.0\n",
      "2022-07-26 19:06:10,634 - initial_spectrafit -burstfit.fit - INFO - c1: 0.45190006494522095 +- 0.0\n",
      "2022-07-26 19:06:10,634 - initial_spectrafit -burstfit.fit - INFO - c2: 0.36922287940979004 +- 0.0\n",
      "2022-07-26 19:06:10,635 - sgram_fit -burstfit.fit - INFO - Running sgram profile fit for component: 1\n",
      "2022-07-26 19:06:10,635 - sgram_fit -burstfit.fit - INFO - initial estimate for parameters: [0.21174255, 0.45190006, 0.36922288, 104.12396180124529, 75.92724521616208, 5.413642990160683, 1.0304417603679135, 1322]\n"
     ]
    },
    {
     "name": "stdout",
     "output_type": "stream",
     "text": [
      "0.5 0.000262144 5 16 1827 1987\n",
      "1827 1987 160 (4, 160)\n",
      "self.function_input_names:  ['S', 'mu', 'sigma', 'tau']\n",
      "self.function_input_names:  ['c0', 'c1', 'c2']\n",
      "<function model_free_normalized_4 at 0x7f0b6d2f5e50>\n",
      "[0.21174255 0.45190006 0.36922288 0.14601164]\n"
     ]
    },
    {
     "name": "stderr",
     "output_type": "stream",
     "text": [
      "2022-07-26 19:06:10,780 - sgram_fit -burstfit.fit - INFO - Converged parameters are:\n",
      "2022-07-26 19:06:10,781 - sgram_fit -burstfit.fit - INFO - c0: 0.19075129471143729 +- 0.04431194976744263\n",
      "2022-07-26 19:06:10,781 - sgram_fit -burstfit.fit - INFO - c1: 0.42044951386532864 +- 0.03518821829923519\n",
      "2022-07-26 19:06:10,782 - sgram_fit -burstfit.fit - INFO - c2: 0.40499582376603854 +- 0.03575310630313952\n",
      "2022-07-26 19:06:10,783 - sgram_fit -burstfit.fit - INFO - S: 99.37026316154957 +- 3.7009418255044557\n",
      "2022-07-26 19:06:10,783 - sgram_fit -burstfit.fit - INFO - mu_t: 73.68084948160667 +- 0.9594343447934393\n",
      "2022-07-26 19:06:10,784 - sgram_fit -burstfit.fit - INFO - sigma_t: 5.576744871970272 +- 0.11265078517113918\n",
      "2022-07-26 19:06:10,785 - sgram_fit -burstfit.fit - INFO - tau: 1.0217546712087602 +- 0.008868510698473893\n",
      "2022-07-26 19:06:10,786 - sgram_fit -burstfit.fit - INFO - DM: 1323.7681827499669 +- 0.98482123164559\n",
      "2022-07-26 19:06:10,786 - model -burstfit.fit - INFO - Making model.\n",
      "2022-07-26 19:06:10,787 - model -burstfit.fit - INFO - Found 1 components.\n",
      "2022-07-26 19:06:10,792 - get_off_pulse_region -burstfit.fit - INFO - mu_t and sigma_t found in params. Using those to estimate off pulse region.\n",
      "2022-07-26 19:06:10,792 - get_off_pulse_region -burstfit.fit - INFO - Using sgram fit parameters.\n",
      "2022-07-26 19:06:10,793 - model -burstfit.fit - INFO - Making model.\n",
      "2022-07-26 19:06:10,794 - model -burstfit.fit - INFO - Found 1 components.\n",
      "2022-07-26 19:06:10,798 - calc_redchisq -burstfit.fit - INFO - Reduced chi-square value of fit is: 1.1685642188330805\n",
      "2022-07-26 19:06:10,799 - fitall -burstfit.fit - INFO - Fixed component exceeded. Terminated individual component fitting.\n",
      "2022-07-26 19:06:10,799 - fitall -burstfit.fit - INFO - Final number of components = 1. Terminating fitting.\n",
      "2022-07-26 19:06:10,800 - get_off_pulse_region -burstfit.fit - INFO - mu_t and sigma_t found in params. Using those to estimate off pulse region.\n",
      "2022-07-26 19:06:10,801 - get_off_pulse_region -burstfit.fit - INFO - Using sgram all-component-fit parameters.\n",
      "2022-07-26 19:06:10,803 - get_off_pulse_region -burstfit.fit - INFO - mu_t and sigma_t found in params. Using those to estimate off pulse region.\n",
      "2022-07-26 19:06:10,803 - get_off_pulse_region -burstfit.fit - INFO - Using sgram all-component-fit parameters.\n",
      "2022-07-26 19:06:10,805 - model -burstfit.fit - INFO - Making model.\n",
      "2022-07-26 19:06:10,805 - model -burstfit.fit - INFO - Found 1 components.\n",
      "2022-07-26 19:06:10,811 - calc_redchisq -burstfit.fit - INFO - Reduced chi-square value of fit is: 1.1685642188330805\n"
     ]
    },
    {
     "name": "stdout",
     "output_type": "stream",
     "text": [
      "{bf}.calc_redchisq()= (1.1685642188330805, 0.0021086458141811315)\n",
      "32\n",
      "data_t [ 0.04304427 -0.713305   -0.24904184 ...  0.5503517  -0.05534264\n",
      "  0.38739842]\n",
      "Creating an ndarray from ragged nested sequences (which is a list-or-tuple of lists-or-tuples-or ndarrays with different lengths or shapes) is deprecated. If you meant to do this, you must specify 'dtype=object' when creating the ndarray.\n"
     ]
    },
    {
     "ename": "ValueError",
     "evalue": "The truth value of an array with more than one element is ambiguous. Use a.any() or a.all()",
     "output_type": "error",
     "traceback": [
      "\u001b[0;31m---------------------------------------------------------------------------\u001b[0m",
      "\u001b[0;31mValueError\u001b[0m                                Traceback (most recent call last)",
      "Input \u001b[0;32mIn [1]\u001b[0m, in \u001b[0;36m<cell line: 2>\u001b[0;34m()\u001b[0m\n\u001b[1;32m      1\u001b[0m \u001b[38;5;28;01mfrom\u001b[39;00m \u001b[38;5;21;01mburstfit\u001b[39;00m \u001b[38;5;28;01mimport\u001b[39;00m BurstFit_paper_template\n\u001b[0;32m----> 2\u001b[0m \u001b[43mBurstFit_paper_template\u001b[49m\u001b[38;5;241;43m.\u001b[39;49m\u001b[43mreal_time_burstfit\u001b[49m\u001b[43m(\u001b[49m\u001b[38;5;124;43m'\u001b[39;49m\u001b[38;5;124;43m220726aaav_inj10\u001b[39;49m\u001b[38;5;124;43m'\u001b[39;49m\u001b[43m,\u001b[49m\u001b[43m \u001b[49m\u001b[38;5;124;43m'\u001b[39;49m\u001b[38;5;124;43m/dataz/dsa110/operations/T1//220726aaav_inj10/220726aaav_inj10_37.fil\u001b[39;49m\u001b[38;5;124;43m'\u001b[39;49m\u001b[43m,\u001b[49m\u001b[43m \u001b[49m\u001b[38;5;241;43m10\u001b[39;49m\u001b[43m,\u001b[49m\u001b[43m \u001b[49m\u001b[38;5;241;43m1322\u001b[39;49m\u001b[43m,\u001b[49m\u001b[43m \u001b[49m\u001b[38;5;241;43m16\u001b[39;49m\u001b[43m)\u001b[49m\n",
      "File \u001b[0;32m~/anaconda3/envs/casa38/lib/python3.8/site-packages/burstfit/BurstFit_paper_template.py:49\u001b[0m, in \u001b[0;36mreal_time_burstfit\u001b[0;34m(candidate, path_to_fil_file, snr_heimdall, dm_heimdall, width_heimdall, voltage, dedisperse, mask_chans, nfreq, save_plot, plot)\u001b[0m\n\u001b[1;32m     45\u001b[0m \u001b[38;5;66;03m#print(\"width_samp, width_samp_fine_pow2, bin_num = \", width_samp, width_samp_fine_pow2, bin_num)\u001b[39;00m\n\u001b[1;32m     46\u001b[0m \n\u001b[1;32m     47\u001b[0m \u001b[38;5;66;03m# dedisperse data using the new dm and compare SNR using adjecent bin widths\u001b[39;00m\n\u001b[1;32m     48\u001b[0m data_new_dm, dm_fit \u001b[38;5;241m=\u001b[39m Dedisperse_data_profile(bf_S1T2_c1, fil_file_heimdall, width_samp)\n\u001b[0;32m---> 49\u001b[0m best_bin_snr \u001b[38;5;241m=\u001b[39m \u001b[43mCompare_bins\u001b[49m\u001b[43m(\u001b[49m\u001b[43mdata_new_dm\u001b[49m\u001b[43m,\u001b[49m\u001b[43m \u001b[49m\u001b[43mbd_heimdall\u001b[49m\u001b[43m,\u001b[49m\u001b[43m \u001b[49m\u001b[43mwidth_samp_fine_pow2\u001b[49m\u001b[43m,\u001b[49m\u001b[43m \u001b[49m\u001b[43mplot\u001b[49m\u001b[43m \u001b[49m\u001b[38;5;241;43m=\u001b[39;49m\u001b[43m \u001b[49m\u001b[43mplot\u001b[49m\u001b[43m)\u001b[49m\n\u001b[1;32m     51\u001b[0m \u001b[38;5;66;03m# save optimal bin width and fit results. \u001b[39;00m\n\u001b[1;32m     52\u001b[0m dict_burstfit \u001b[38;5;241m=\u001b[39m {\n\u001b[1;32m     53\u001b[0m     \u001b[38;5;124m\"\u001b[39m\u001b[38;5;124mbf1_width_bins\u001b[39m\u001b[38;5;124m\"\u001b[39m: width_samp_fine_pow2, \u001b[38;5;66;03m# already converted to voltage resolution \u001b[39;00m\n\u001b[1;32m     54\u001b[0m     \u001b[38;5;124m\"\u001b[39m\u001b[38;5;124mbf1_start_bins\u001b[39m\u001b[38;5;124m\"\u001b[39m: bin_num, \u001b[38;5;66;03m# already converted to voltage resolution\u001b[39;00m\n\u001b[0;32m   (...)\u001b[0m\n\u001b[1;32m     58\u001b[0m     \u001b[38;5;124m\"\u001b[39m\u001b[38;5;124mbf1_pvalue\u001b[39m\u001b[38;5;124m\"\u001b[39m: \u001b[38;5;28mfloat\u001b[39m(bf_S1T2_c1\u001b[38;5;241m.\u001b[39mp_value)\n\u001b[1;32m     59\u001b[0m }\n",
      "File \u001b[0;32m~/anaconda3/envs/casa38/lib/python3.8/site-packages/burstfit/BurstFit_paper_template.py:407\u001b[0m, in \u001b[0;36mCompare_bins\u001b[0;34m(data, bd, width_samp_fine_pow2, tsamp_fine, plot)\u001b[0m\n\u001b[1;32m    404\u001b[0m width_filterbank \u001b[38;5;241m=\u001b[39m \u001b[38;5;28mint\u001b[39m(width_fine \u001b[38;5;241m*\u001b[39m tsamp_fine \u001b[38;5;241m/\u001b[39m bd\u001b[38;5;241m.\u001b[39mtsamp)\n\u001b[1;32m    406\u001b[0m data_t_binned \u001b[38;5;241m=\u001b[39m Bin_profile(data\u001b[38;5;241m.\u001b[39mmean(\u001b[38;5;241m0\u001b[39m), width_filterbank)\n\u001b[0;32m--> 407\u001b[0m snr \u001b[38;5;241m=\u001b[39m \u001b[43mSnr\u001b[49m\u001b[43m(\u001b[49m\u001b[43mdata_t_binned\u001b[49m\u001b[43m)\u001b[49m\n\u001b[1;32m    408\u001b[0m snr_arr \u001b[38;5;241m=\u001b[39m np\u001b[38;5;241m.\u001b[39mappend(snr_arr, snr)\n\u001b[1;32m    410\u001b[0m \u001b[38;5;28;01mif\u001b[39;00m plot:\n",
      "File \u001b[0;32m~/anaconda3/envs/casa38/lib/python3.8/site-packages/burstfit/BurstFit_paper_template.py:387\u001b[0m, in \u001b[0;36mSnr\u001b[0;34m(data_t_bin)\u001b[0m\n\u001b[1;32m    386\u001b[0m \u001b[38;5;28;01mdef\u001b[39;00m \u001b[38;5;21mSnr\u001b[39m(data_t_bin):\n\u001b[0;32m--> 387\u001b[0m     signal \u001b[38;5;241m=\u001b[39m \u001b[43mnp\u001b[49m\u001b[38;5;241;43m.\u001b[39;49m\u001b[43mmax\u001b[49m\u001b[43m(\u001b[49m\u001b[43mdata_t_bin\u001b[49m\u001b[43m)\u001b[49m\n\u001b[1;32m    388\u001b[0m     peak_idx \u001b[38;5;241m=\u001b[39m np\u001b[38;5;241m.\u001b[39margmax(data_t_bin)\n\u001b[1;32m    389\u001b[0m     residual \u001b[38;5;241m=\u001b[39m np\u001b[38;5;241m.\u001b[39mconcatenate([data_t_bin[\u001b[38;5;241m0\u001b[39m : peak_idx \u001b[38;5;241m-\u001b[39m \u001b[38;5;241m1\u001b[39m], data_t_bin[peak_idx \u001b[38;5;241m+\u001b[39m \u001b[38;5;241m2\u001b[39m : \u001b[38;5;241m-\u001b[39m\u001b[38;5;241m1\u001b[39m]])\n",
      "File \u001b[0;32m<__array_function__ internals>:5\u001b[0m, in \u001b[0;36mamax\u001b[0;34m(*args, **kwargs)\u001b[0m\n",
      "File \u001b[0;32m~/anaconda3/envs/casa38/lib/python3.8/site-packages/numpy/core/fromnumeric.py:2754\u001b[0m, in \u001b[0;36mamax\u001b[0;34m(a, axis, out, keepdims, initial, where)\u001b[0m\n\u001b[1;32m   2638\u001b[0m \u001b[38;5;129m@array_function_dispatch\u001b[39m(_amax_dispatcher)\n\u001b[1;32m   2639\u001b[0m \u001b[38;5;28;01mdef\u001b[39;00m \u001b[38;5;21mamax\u001b[39m(a, axis\u001b[38;5;241m=\u001b[39m\u001b[38;5;28;01mNone\u001b[39;00m, out\u001b[38;5;241m=\u001b[39m\u001b[38;5;28;01mNone\u001b[39;00m, keepdims\u001b[38;5;241m=\u001b[39mnp\u001b[38;5;241m.\u001b[39m_NoValue, initial\u001b[38;5;241m=\u001b[39mnp\u001b[38;5;241m.\u001b[39m_NoValue,\n\u001b[1;32m   2640\u001b[0m          where\u001b[38;5;241m=\u001b[39mnp\u001b[38;5;241m.\u001b[39m_NoValue):\n\u001b[1;32m   2641\u001b[0m     \u001b[38;5;124;03m\"\"\"\u001b[39;00m\n\u001b[1;32m   2642\u001b[0m \u001b[38;5;124;03m    Return the maximum of an array or maximum along an axis.\u001b[39;00m\n\u001b[1;32m   2643\u001b[0m \n\u001b[0;32m   (...)\u001b[0m\n\u001b[1;32m   2752\u001b[0m \u001b[38;5;124;03m    5\u001b[39;00m\n\u001b[1;32m   2753\u001b[0m \u001b[38;5;124;03m    \"\"\"\u001b[39;00m\n\u001b[0;32m-> 2754\u001b[0m     \u001b[38;5;28;01mreturn\u001b[39;00m \u001b[43m_wrapreduction\u001b[49m\u001b[43m(\u001b[49m\u001b[43ma\u001b[49m\u001b[43m,\u001b[49m\u001b[43m \u001b[49m\u001b[43mnp\u001b[49m\u001b[38;5;241;43m.\u001b[39;49m\u001b[43mmaximum\u001b[49m\u001b[43m,\u001b[49m\u001b[43m \u001b[49m\u001b[38;5;124;43m'\u001b[39;49m\u001b[38;5;124;43mmax\u001b[39;49m\u001b[38;5;124;43m'\u001b[39;49m\u001b[43m,\u001b[49m\u001b[43m \u001b[49m\u001b[43maxis\u001b[49m\u001b[43m,\u001b[49m\u001b[43m \u001b[49m\u001b[38;5;28;43;01mNone\u001b[39;49;00m\u001b[43m,\u001b[49m\u001b[43m \u001b[49m\u001b[43mout\u001b[49m\u001b[43m,\u001b[49m\n\u001b[1;32m   2755\u001b[0m \u001b[43m                          \u001b[49m\u001b[43mkeepdims\u001b[49m\u001b[38;5;241;43m=\u001b[39;49m\u001b[43mkeepdims\u001b[49m\u001b[43m,\u001b[49m\u001b[43m \u001b[49m\u001b[43minitial\u001b[49m\u001b[38;5;241;43m=\u001b[39;49m\u001b[43minitial\u001b[49m\u001b[43m,\u001b[49m\u001b[43m \u001b[49m\u001b[43mwhere\u001b[49m\u001b[38;5;241;43m=\u001b[39;49m\u001b[43mwhere\u001b[49m\u001b[43m)\u001b[49m\n",
      "File \u001b[0;32m~/anaconda3/envs/casa38/lib/python3.8/site-packages/numpy/core/fromnumeric.py:86\u001b[0m, in \u001b[0;36m_wrapreduction\u001b[0;34m(obj, ufunc, method, axis, dtype, out, **kwargs)\u001b[0m\n\u001b[1;32m     83\u001b[0m         \u001b[38;5;28;01melse\u001b[39;00m:\n\u001b[1;32m     84\u001b[0m             \u001b[38;5;28;01mreturn\u001b[39;00m reduction(axis\u001b[38;5;241m=\u001b[39maxis, out\u001b[38;5;241m=\u001b[39mout, \u001b[38;5;241m*\u001b[39m\u001b[38;5;241m*\u001b[39mpasskwargs)\n\u001b[0;32m---> 86\u001b[0m \u001b[38;5;28;01mreturn\u001b[39;00m \u001b[43mufunc\u001b[49m\u001b[38;5;241;43m.\u001b[39;49m\u001b[43mreduce\u001b[49m\u001b[43m(\u001b[49m\u001b[43mobj\u001b[49m\u001b[43m,\u001b[49m\u001b[43m \u001b[49m\u001b[43maxis\u001b[49m\u001b[43m,\u001b[49m\u001b[43m \u001b[49m\u001b[43mdtype\u001b[49m\u001b[43m,\u001b[49m\u001b[43m \u001b[49m\u001b[43mout\u001b[49m\u001b[43m,\u001b[49m\u001b[43m \u001b[49m\u001b[38;5;241;43m*\u001b[39;49m\u001b[38;5;241;43m*\u001b[39;49m\u001b[43mpasskwargs\u001b[49m\u001b[43m)\u001b[49m\n",
      "\u001b[0;31mValueError\u001b[0m: The truth value of an array with more than one element is ambiguous. Use a.any() or a.all()"
     ]
    }
   ],
   "source": [
    "from burstfit import BurstFit_paper_template\n",
    "BurstFit_paper_template.real_time_burstfit('220726aaav_inj10', '/dataz/dsa110/operations/T1//220726aaav_inj10/220726aaav_inj10_37.fil', 10, 1322, 16)"
   ]
  },
  {
   "cell_type": "code",
   "execution_count": null,
   "metadata": {},
   "outputs": [],
   "source": []
  }
 ],
 "metadata": {
  "kernelspec": {
   "display_name": "casa38",
   "language": "python",
   "name": "casa38"
  },
  "language_info": {
   "codemirror_mode": {
    "name": "ipython",
    "version": 3
   },
   "file_extension": ".py",
   "mimetype": "text/x-python",
   "name": "python",
   "nbconvert_exporter": "python",
   "pygments_lexer": "ipython3",
   "version": "3.8.13"
  }
 },
 "nbformat": 4,
 "nbformat_minor": 4
}
