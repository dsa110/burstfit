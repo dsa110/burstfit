{
 "cells": [
  {
   "cell_type": "code",
   "execution_count": 10,
   "metadata": {},
   "outputs": [],
   "source": [
    "import sys\n",
    "sys.path.insert(1, '/home/ubuntu/gechen/software/burstfit/examples/')\n",
    "import import_ipynb\n",
    "import BurstFit_paper_template as paper_fit\n",
    "\n",
    "from burstfit.utils.functions import pulse_fn, sgram_fn_vec, sgram_fn, gauss, gauss_norm, model_free_4, model_free_normalized_4, power_law # pulse_fn_vec  \n",
    "from burstfit.utils.plotter import plot_fit_results\n",
    "import numpy as np\n",
    "\n",
    "\n",
    "def real_time_burstfit(candidate, datestring, beam, corr, snr_heimdall, dm_heimdall, width_heimdall,\n",
    "                       voltage = False, dedisperse = True, mask_chans=[], nfreq = 4, save_plot = True, \n",
    "                       plot = False\n",
    "                      ):\n",
    "    \n",
    "    fil_file_dedispersed = '/home/ubuntu/gechen/software/burstfit/fil_files_dedispersed/%s_%d_%s.txt'%(candidate, nfreq, str(voltage))\n",
    "    \n",
    "    bd_heimdall, fil_file_heimdall  = paper_fit.prepare_bd(candidate, dm_heimdall, \n",
    "                                                           width_heimdall, snr_heimdall, \n",
    "                                                           datestring=datestring, beam=beam, \n",
    "                                                           corr=corr, voltage=False)\n",
    "\n",
    "\n",
    "    data_burst, i_low, i_high = paper_fit.prepare_burst_data_heimdall_only(fil_file_heimdall, fil_file_dedispersed, \n",
    "                                                        candidate, bd_heimdall, \n",
    "                                                       t_chop_width = 5, dedisperse=dedisperse,\n",
    "                                                                          plot = plot)\n",
    "    \n",
    "    profile_bounds=[(0, 0.5 / bd_heimdall.tsamp - i_low - bd_heimdall.width, 0, 0),(np.inf, 0.5 / bd_heimdall.tsamp - i_low + bd_heimdall.width, 5 * bd_heimdall.width, np.inf)]\n",
    "\n",
    "    bf_S1T2_c1 = paper_fit.fit_paper_curvefit(bd_heimdall, data_burst, ['S', 'mu_t', 'sigma_t', 'tau'], pulse_fn, \n",
    "              profile_bounds, \n",
    "              ['c0', 'c1', 'c2'], model_free_normalized_4, fix_ncomp = True, \n",
    "                                              ncomp = 1, plot = plot)\n",
    "    \n",
    "    dm_fit, dm_fit_err = bf_S1T2_c1.sgram_params['all'][1]['popt'][-1], bf_S1T2_c1.sgram_params['all'][1]['perr'][-1]\n",
    "\n",
    "    width_samp, width_samp_fine_pow2 = paper_fit.bin_best(bf_S1T2_c1, bd_heimdall)\n",
    "    bin_num = paper_fit.bin_number(bf_S1T2_c1, bd_heimdall, i_low, width_samp_fine_pow2)\n",
    "    print(\"width_samp, width_samp_fine_pow2, bin_num = \", width_samp, width_samp_fine_pow2, bin_num)\n",
    "\n",
    "    data_new_dm, dm_fit = paper_fit.Dedisperse_data_profile(bf_S1T2_c1, fil_file_heimdall, width_samp)\n",
    "\n",
    "    best_bin_snr = paper_fit.Compare_bins(data_new_dm, bd_heimdall, width_samp_fine_pow2, plot = plot)\n",
    "\n",
    "    dict_burstfit = {\n",
    "        \"bf1_width_bins\": width_samp_fine_pow2, # already converted to voltage resolution \n",
    "        \"bf1_start_bins\": bin_num, # already converted to voltage resolution\n",
    "        \"bf1_dm\":dm_fit, \n",
    "        \"bf1_dm_stddev\": dm_fit_err,\n",
    "        \"bf1_reduced_chisq\": bf_S1T2_c1.reduced_chi_sq,\n",
    "        \"bf1_pvalue\": bf_S1T2_c1.p_value\n",
    "    }\n",
    "    \n",
    "    if save_plot:\n",
    "        plot_fit_results(bf_S1T2_c1.sgram, bf_S1T2_c1.sgram_model.evaluate, bf_S1T2_c1.sgram_params['all'][1]['popt'], \n",
    "                          bf_S1T2_c1.tsamp, bf_S1T2_c1.fch1, bf_S1T2_c1.foff, show=True, save=True, \n",
    "                         outname = 'bf1_' + candidate, \n",
    "                         outdir='/dataz/dsa110/operations/candidates/' + candidate + '/other')        \n",
    "    \n",
    "    return dict_burstfit\n",
    "\n",
    "\n",
    "    \n",
    "\n",
    "\n"
   ]
  },
  {
   "cell_type": "code",
   "execution_count": 12,
   "metadata": {},
   "outputs": [
    {
     "name": "stderr",
     "output_type": "stream",
     "text": [
      "2022-06-29 20:44:23,187 - prepare_data -burstfit.data - INFO - Preparing data for burst fitting.\n",
      "2022-06-29 20:44:23,395 - crop_dedispersed_data -burstfit.data - INFO - Cropping data with time_window: 0.2s.\n",
      "2022-06-29 20:44:23,398 - normalise_data -burstfit.data - INFO - Normalising data using off pulse mean and std.\n",
      "2022-06-29 20:44:23,460 - normalise_data -burstfit.data - INFO - Off pulse mean and std are: (36.063605401529635, 21.164850863543236)\n"
     ]
    },
    {
     "name": "stdout",
     "output_type": "stream",
     "text": [
      "using filterbank  /data/dsa110/T1/corr09/2022_3_29_23_4_54/fil_220330aaan/220330aaan_164.fil\n",
      "Only using Heimdall filterbank.\n",
      "0.5 0.000262144 5 32 1747 2067\n",
      "1747 2067 320 (4, 320)\n",
      "self.function_input_names:  ['S', 'mu', 'sigma', 'tau']\n",
      "self.function_input_names:  ['c0', 'c1', 'c2']\n"
     ]
    },
    {
     "name": "stderr",
     "output_type": "stream",
     "text": [
      "2022-06-29 20:44:24,409 - run_tests -burstfit.fit - INFO - Running statistical tests on the residual.\n",
      "2022-06-29 20:44:24,410 - run_tests -burstfit.fit - INFO - Running off pulse - off pulse test\n",
      "2022-06-29 20:44:24,414 - tests -root - INFO - P values: T-test (0.94271), Kruskal (0.90986), KS (0.77281), F-test (0.09014)\n",
      "2022-06-29 20:44:24,415 - run_tests -burstfit.fit - INFO - Running on pulse - off pulse (L) test\n",
      "2022-06-29 20:44:24,419 - tests -root - INFO - P values: T-test (0.00000), Kruskal (0.00000), KS (0.00000), F-test (0.00000)\n",
      "2022-06-29 20:44:24,420 - run_tests -burstfit.fit - INFO - Running on pulse - off pulse (R) test\n",
      "2022-06-29 20:44:24,424 - tests -root - INFO - P values: T-test (0.00000), Kruskal (0.00000), KS (0.00000), F-test (0.00003)\n",
      "2022-06-29 20:44:24,426 - fitall -burstfit.fit - WARNING - Input profile bounds detected. Using them for component 1\n",
      "2022-06-29 20:44:24,428 - fitcycle -burstfit.fit - INFO - Fitting component 1.\n",
      "2022-06-29 20:44:24,429 - initial_profilefit -burstfit.fit - INFO - Running initial profile fit for component: 1\n",
      "2022-06-29 20:44:24,530 - initial_profilefit -burstfit.fit - INFO - Converged parameters (profile fit) are:\n",
      "2022-06-29 20:44:24,532 - initial_profilefit -burstfit.fit - INFO - S: 190.51959045069415 +- 17.830975997031278\n",
      "2022-06-29 20:44:24,534 - initial_profilefit -burstfit.fit - INFO - mu_t: 161.3835343097292 +- 1.3880446274366371\n",
      "2022-06-29 20:44:24,535 - initial_profilefit -burstfit.fit - INFO - sigma_t: 12.843949515958855 +- 1.3880446492856664\n",
      "2022-06-29 20:44:24,536 - initial_profilefit -burstfit.fit - INFO - tau: 1.0 +- 0.0\n",
      "2022-06-29 20:44:24,538 - make_spectra -burstfit.fit - INFO - Making spectra using profile fit parameters.\n",
      "2022-06-29 20:44:24,540 - initial_spectrafit -burstfit.fit - INFO - Running spectra profile fit for component: 1\n"
     ]
    },
    {
     "name": "stdout",
     "output_type": "stream",
     "text": [
      "<function model_free_normalized_4 at 0x7fe3f689b488>\n",
      "[0.39878002 0.23669735 0.47927672 0.16927181]\n"
     ]
    },
    {
     "name": "stderr",
     "output_type": "stream",
     "text": [
      "2022-06-29 20:44:24,544 - initial_spectrafit -burstfit.fit - INFO - Converged parameters (spectra fit) are:\n",
      "2022-06-29 20:44:24,546 - initial_spectrafit -burstfit.fit - INFO - c0: 0.3987800180912018 +- 0.0\n",
      "2022-06-29 20:44:24,547 - initial_spectrafit -burstfit.fit - INFO - c1: 0.23669734597206116 +- 0.0\n",
      "2022-06-29 20:44:24,549 - initial_spectrafit -burstfit.fit - INFO - c2: 0.47927671670913696 +- 0.0\n",
      "2022-06-29 20:44:24,551 - sgram_fit -burstfit.fit - INFO - Running sgram profile fit for component: 1\n",
      "2022-06-29 20:44:24,552 - sgram_fit -burstfit.fit - INFO - initial estimate for parameters: [0.39878002, 0.23669735, 0.47927672, 190.51959045069415, 161.3835343097292, 12.843949515958855, 1.0, 467.8]\n",
      "2022-06-29 20:44:24,598 - run_fit -burstfit.curvefit - WARNING - Fit errors are not finite. Retrying with p0+-(0.2*p0) bounds\n",
      "2022-06-29 20:44:25,231 - sgram_fit -burstfit.fit - INFO - Converged parameters are:\n",
      "2022-06-29 20:44:25,235 - sgram_fit -burstfit.fit - INFO - c0: 0.3819557881701074 +- 0.039414699350632305\n",
      "2022-06-29 20:44:25,237 - sgram_fit -burstfit.fit - INFO - c1: 0.24634351990731335 +- 0.03221056654570678\n",
      "2022-06-29 20:44:25,239 - sgram_fit -burstfit.fit - INFO - c2: 0.4706683912134836 +- 0.03185597413271187\n",
      "2022-06-29 20:44:25,240 - sgram_fit -burstfit.fit - INFO - S: 171.65449883907166 +- 4.470513376374713\n",
      "2022-06-29 20:44:25,242 - sgram_fit -burstfit.fit - INFO - mu_t: 157.95011450661227 +- 1.794771994557761\n",
      "2022-06-29 20:44:25,243 - sgram_fit -burstfit.fit - INFO - sigma_t: 13.03248799264004 +- 0.48175681716272317\n",
      "2022-06-29 20:44:25,245 - sgram_fit -burstfit.fit - INFO - tau: 1.0 +- 0.0\n",
      "2022-06-29 20:44:25,247 - sgram_fit -burstfit.fit - INFO - DM: 474.52522988553045 +- 1.6737556598976506\n",
      "2022-06-29 20:44:25,248 - model -burstfit.fit - INFO - Making model.\n",
      "2022-06-29 20:44:25,251 - model -burstfit.fit - INFO - Found 1 components.\n",
      "2022-06-29 20:44:25,254 - get_off_pulse_region -burstfit.fit - INFO - mu_t and sigma_t found in params. Using those to estimate off pulse region.\n",
      "2022-06-29 20:44:25,256 - get_off_pulse_region -burstfit.fit - INFO - Using sgram fit parameters.\n",
      "2022-06-29 20:44:25,257 - model -burstfit.fit - INFO - Making model.\n",
      "2022-06-29 20:44:25,259 - model -burstfit.fit - INFO - Found 1 components.\n",
      "2022-06-29 20:44:25,262 - calc_redchisq -burstfit.fit - INFO - Reduced chi-square value of fit is: 1.2300534166419113\n",
      "2022-06-29 20:44:25,264 - fitall -burstfit.fit - INFO - Fixed component exceeded. Terminated individual component fitting.\n",
      "2022-06-29 20:44:25,266 - fitall -burstfit.fit - INFO - Final number of components = 1. Terminating fitting.\n",
      "2022-06-29 20:44:25,268 - get_off_pulse_region -burstfit.fit - INFO - mu_t and sigma_t found in params. Using those to estimate off pulse region.\n",
      "2022-06-29 20:44:25,270 - get_off_pulse_region -burstfit.fit - INFO - Using sgram all-component-fit parameters.\n",
      "2022-06-29 20:44:25,272 - get_off_pulse_region -burstfit.fit - INFO - mu_t and sigma_t found in params. Using those to estimate off pulse region.\n",
      "2022-06-29 20:44:25,274 - get_off_pulse_region -burstfit.fit - INFO - Using sgram all-component-fit parameters.\n",
      "2022-06-29 20:44:25,275 - model -burstfit.fit - INFO - Making model.\n",
      "2022-06-29 20:44:25,286 - model -burstfit.fit - INFO - Found 1 components.\n",
      "2022-06-29 20:44:25,290 - calc_redchisq -burstfit.fit - INFO - Reduced chi-square value of fit is: 1.2300534166419113\n"
     ]
    },
    {
     "name": "stdout",
     "output_type": "stream",
     "text": [
      "{bf}.calc_redchisq()= (1.2300534166419113, 2.9571803894512527e-08)\n",
      "width_samp, width_samp_fine_pow2, bin_num =  31 128 119\n",
      "64\n",
      "128\n",
      "256\n",
      "512\n",
      "1024\n",
      "fine resolution bin size (at 32.768e-6s) that gives the max snr: 256\n"
     ]
    },
    {
     "data": {
      "text/plain": [
       "{'bf1_width_bins': 128,\n",
       " 'bf1_start_bins': 119,\n",
       " 'bf1_dm': 474.52522988553045,\n",
       " 'bf1_dm_stddev': 1.6737556598976506,\n",
       " 'bf1_reduced_chisq': 1.2300534166419113,\n",
       " 'bf1_pvalue': 2.9571803894512527e-08}"
      ]
     },
     "execution_count": 12,
     "metadata": {},
     "output_type": "execute_result"
    }
   ],
   "source": [
    "candidate = '220330aaan'\n",
    "datestring = '2022_3_29_23_4_54'\n",
    "beam = 164\n",
    "corr = 'corr09'\n",
    "snr_heimdall = 12.9\n",
    "dm_heimdall = 467.8\n",
    "width_heimdall = 32 \n",
    "\n",
    "# '220330aaan', '2022_3_29_23_4_54', 164, 'corr09', 12.9, 467.8, 32  \n",
    "\n",
    "# candidate = sys.argv[0]\n",
    "# datestring = sys.argv[1]\n",
    "# beam = sys.argv[2]\n",
    "# corr = sys.argv[3]\n",
    "# snr_heimdall = sys.argv[4]\n",
    "# dm_heimdall = sys.argv[5]\n",
    "# width_heimdall = sys.argv[6]\n",
    "\n",
    "real_time_burstfit(candidate, datestring, beam, corr, snr_heimdall, dm_heimdall, width_heimdall, save_plot=False)"
   ]
  },
  {
   "cell_type": "code",
   "execution_count": null,
   "metadata": {},
   "outputs": [],
   "source": []
  }
 ],
 "metadata": {
  "kernelspec": {
   "display_name": "casa",
   "language": "python",
   "name": "casa"
  },
  "language_info": {
   "codemirror_mode": {
    "name": "ipython",
    "version": 3
   },
   "file_extension": ".py",
   "mimetype": "text/x-python",
   "name": "python",
   "nbconvert_exporter": "python",
   "pygments_lexer": "ipython3",
   "version": "3.6.10"
  }
 },
 "nbformat": 4,
 "nbformat_minor": 4
}
