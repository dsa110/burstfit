{
 "cells": [
  {
   "cell_type": "code",
   "execution_count": null,
   "metadata": {},
   "outputs": [],
   "source": [
    "from burstfit.fit import BurstFit\n",
    "from burstfit.data import BurstData\n",
    "from burstfit.model import Model, SgramModel\n",
    "from burstfit.utils.plotter import plot_me\n",
    "from burstfit.utils.functions import pulse_fn_vec, sgram_fn_vec, gauss_norm\n",
    "from burstfit.io import BurstIO\n",
    "import logging"
   ]
  },
  {
   "cell_type": "code",
   "execution_count": null,
   "metadata": {},
   "outputs": [],
   "source": [
    "logging_format = \"%(asctime)s - %(funcName)s -%(name)s - %(levelname)s - %(message)s\"\n",
    "logging.basicConfig(\n",
    "    level=logging.INFO,\n",
    "    format=logging_format,\n",
    ")"
   ]
  },
  {
   "cell_type": "markdown",
   "metadata": {},
   "source": [
    "## Burst Fitting"
   ]
  },
  {
   "cell_type": "markdown",
   "metadata": {},
   "source": [
    "#### Get candidate cutout and preprocess\n",
    "#### BurstData class (get data cutout and pre-process)"
   ]
  },
  {
   "cell_type": "code",
   "execution_count": null,
   "metadata": {},
   "outputs": [],
   "source": [
    "fil_file = '../tests/data/tcand_2_dm_565.30000_snr_11.92560.fil'"
   ]
  },
  {
   "cell_type": "code",
   "execution_count": null,
   "metadata": {},
   "outputs": [],
   "source": [
    "bd = BurstData(\n",
    "    fp=fil_file,\n",
    "    dm=565.3,\n",
    "    tcand=2,\n",
    "    width=64,\n",
    "    snr=11.9,\n",
    "    min_samp=256,\n",
    ")"
   ]
  },
  {
   "cell_type": "code",
   "execution_count": null,
   "metadata": {},
   "outputs": [],
   "source": [
    "# We will mask channel numbers from 53 to 64 as they are 0. \n",
    "bd.prepare_data(mask_chans=[(53, 64)])"
   ]
  },
  {
   "cell_type": "markdown",
   "metadata": {},
   "source": [
    "#### Fitting using BurstFit\n",
    "#### Define relevant functions for profile, spectra and spectrogram"
   ]
  },
  {
   "cell_type": "code",
   "execution_count": null,
   "metadata": {},
   "outputs": [],
   "source": [
    "pnames = ['S', 'mu_t', 'sigma_t', 'tau']\n",
    "pulseModel = Model(pulse_fn_vec, param_names=pnames)\n",
    "snames = ['mu_f', 'sigma_f']\n",
    "spectraModel = Model(gauss_norm, param_names=snames)"
   ]
  },
  {
   "cell_type": "code",
   "execution_count": null,
   "metadata": {},
   "outputs": [],
   "source": [
    "sgramModel = SgramModel(pulseModel, spectraModel, sgram_fn_vec, \n",
    "                        mask=bd.mask, clip_fac=bd.clip_fac)"
   ]
  },
  {
   "cell_type": "markdown",
   "metadata": {},
   "source": [
    "#### Provide basic candidate information to BurstFit: sgram, model, DM, width, RFI mask, etc "
   ]
  },
  {
   "cell_type": "code",
   "execution_count": null,
   "metadata": {},
   "outputs": [],
   "source": [
    "bf = BurstFit(\n",
    "    sgram_model=sgramModel,\n",
    "    sgram=bd.sgram,\n",
    "    width=bd.width,\n",
    "    dm=bd.dm,\n",
    "    foff=bd.foff,\n",
    "    fch1=bd.fch1,\n",
    "    tsamp=bd.tsamp,\n",
    "    clip_fac=bd.clip_fac,\n",
    "    mask=bd.mask) "
   ]
  },
  {
   "cell_type": "markdown",
   "metadata": {},
   "source": [
    "#### Fitting ...."
   ]
  },
  {
   "cell_type": "code",
   "execution_count": null,
   "metadata": {
    "scrolled": false
   },
   "outputs": [],
   "source": [
    "bf.fitall(plot=False)"
   ]
  },
  {
   "cell_type": "markdown",
   "metadata": {},
   "source": [
    "### We can use BurstIO class to save the results. "
   ]
  },
  {
   "cell_type": "code",
   "execution_count": null,
   "metadata": {},
   "outputs": [],
   "source": [
    "bio = BurstIO(bf, bd)"
   ]
  },
  {
   "cell_type": "code",
   "execution_count": null,
   "metadata": {},
   "outputs": [],
   "source": [
    "d = bio.save_results()"
   ]
  },
  {
   "cell_type": "markdown",
   "metadata": {},
   "source": [
    "#### This saves the relevant parameters: header of the file, candidate parameters, fit results, function names to a JSON file. \n",
    "##### Here are the parameters that are saved: "
   ]
  },
  {
   "cell_type": "code",
   "execution_count": null,
   "metadata": {},
   "outputs": [],
   "source": [
    "d"
   ]
  },
  {
   "cell_type": "markdown",
   "metadata": {},
   "source": [
    "#### Fitted parameters for all components are saved in sgram_params['all']"
   ]
  },
  {
   "cell_type": "code",
   "execution_count": null,
   "metadata": {},
   "outputs": [],
   "source": [
    "d['sgram_params']['all']"
   ]
  },
  {
   "cell_type": "markdown",
   "metadata": {},
   "source": [
    "### BurstIO class can also be used to read the json file with fitting results and reproduce the sgram model"
   ]
  },
  {
   "cell_type": "code",
   "execution_count": null,
   "metadata": {},
   "outputs": [],
   "source": [
    "file = '../tests/data/cand_tstart_57645.411052962729_tcand_2.0000000_dm_565.30000_snr_11.90000.json'\n",
    "bio = BurstIO(jsonfile=file)"
   ]
  },
  {
   "cell_type": "markdown",
   "metadata": {},
   "source": [
    "#### This reads the json file and sets up relevant functions and metadata"
   ]
  },
  {
   "cell_type": "code",
   "execution_count": null,
   "metadata": {},
   "outputs": [],
   "source": [
    "bio.read_json_and_precalc()"
   ]
  },
  {
   "cell_type": "code",
   "execution_count": null,
   "metadata": {},
   "outputs": [],
   "source": [
    "bio.sgram_params"
   ]
  },
  {
   "cell_type": "code",
   "execution_count": null,
   "metadata": {},
   "outputs": [],
   "source": [
    "# sgram function\n",
    "bio.sgram_model.sgram_function.__name__"
   ]
  },
  {
   "cell_type": "code",
   "execution_count": null,
   "metadata": {},
   "outputs": [],
   "source": [
    "# profile and spectra function\n",
    "bio.sgram_model.pulse_model.function.__name__, bio.sgram_model.spectra_model.function.__name__"
   ]
  },
  {
   "cell_type": "markdown",
   "metadata": {},
   "source": [
    "#### Similar to BurstFit class, we can use bio.model to make the model. This uses the sgram_params or mcmc_params (if available) to make the model. "
   ]
  },
  {
   "cell_type": "code",
   "execution_count": null,
   "metadata": {},
   "outputs": [],
   "source": [
    "plot_me(bio.model)"
   ]
  }
 ],
 "metadata": {
  "kernelspec": {
   "display_name": "Python 3",
   "language": "python",
   "name": "python3"
  },
  "language_info": {
   "codemirror_mode": {
    "name": "ipython",
    "version": 3
   },
   "file_extension": ".py",
   "mimetype": "text/x-python",
   "name": "python",
   "nbconvert_exporter": "python",
   "pygments_lexer": "ipython3",
   "version": "3.6.8"
  }
 },
 "nbformat": 4,
 "nbformat_minor": 2
}
