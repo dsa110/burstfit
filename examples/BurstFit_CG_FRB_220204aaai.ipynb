{
 "cells": [
  {
   "cell_type": "markdown",
   "metadata": {},
   "source": [
    "# FRB 220204aaai (SNR16)"
   ]
  },
  {
   "cell_type": "code",
   "execution_count": 2,
   "metadata": {},
   "outputs": [
    {
     "name": "stderr",
     "output_type": "stream",
     "text": [
      "/home/ubuntu/anaconda3/envs/casa/lib/python3.6/site-packages/matplotlib/cbook/deprecation.py:107: MatplotlibDeprecationWarning: The mpl_toolkits.axes_grid module was deprecated in version 2.1. Use mpl_toolkits.axes_grid1 and mpl_toolkits.axisartist provies the same functionality instead.\n",
      "  warnings.warn(message, mplDeprecation, stacklevel=1)\n"
     ]
    },
    {
     "name": "stdout",
     "output_type": "stream",
     "text": [
      "datacite/tind env not found. Cannot use datacite API\n"
     ]
    },
    {
     "name": "stderr",
     "output_type": "stream",
     "text": [
      "2022-03-15 20:50:12,936 - prepare_data -burstfit.data - INFO - Preparing data for burst fitting.\n",
      "2022-03-15 20:50:18,086 - crop_dedispersed_data -burstfit.data - INFO - Cropping data with time_window: 0.2s.\n",
      "2022-03-15 20:50:18,090 - normalise_data -burstfit.data - INFO - Normalising data using off pulse mean and std.\n",
      "2022-03-15 20:50:19,712 - normalise_data -burstfit.data - INFO - Off pulse mean and std are: (48.7550786029423, 34.69448105077088)\n"
     ]
    },
    {
     "name": "stdout",
     "output_type": "stream",
     "text": [
      "32\n"
     ]
    }
   ],
   "source": [
    "from burstfit.fit import BurstFit\n",
    "from burstfit.data import BurstData\n",
    "from burstfit.model import Model, SgramModel\n",
    "from burstfit.utils.plotter import plot_me\n",
    "from burstfit.utils.functions import pulse_fn_vec, sgram_fn_vec, sgram_fn, gauss_norm, gauss_norm3, no_model\n",
    "from burstfit.utils.plotter import plot_fit_results, plot_2d_fit \n",
    "from burstfit.io import BurstIO\n",
    "import logging\n",
    "import numpy as np\n",
    "import math\n",
    "import matplotlib.pyplot as plt\n",
    "# use Liam's function to read in filterbank files \n",
    "import sys\n",
    "sys.path.insert(1, '/home/ubuntu/gechen/software')\n",
    "import filplot_funcs_gc as ff\n",
    "\n",
    "#from burstfit.utils.functions import gauss_norm2, pulse_fn_vec, sgram_fn_vec \n",
    "%matplotlib inline \n",
    "\n",
    "\n",
    "# input variables \n",
    "candidate = '220207aabh'\n",
    "datestring = '2022_2_6_19_34_4'\n",
    "beam = 209\n",
    "corr = 'corr09'\n",
    "dm_heimdall = 612\n",
    "width_heimdall = 4 \n",
    "snr_heimdall = 16.2\n",
    "mask_chans=[] \n",
    "\n",
    "#fil_file ='/data/dsa110/T1/'+corr + '/' + datestring + '/fil_'+candidate+'/'+candidate+'_'+str(beam)+'.fil'\n",
    "fil_file = '/home/ubuntu/vikram/scratch/220204aaai.fil'\n",
    "save_name = candidate + '_beam_'+str(beam)\n",
    "save_dir = '/home/ubuntu/gechen/burstfit_tests_outputs/' \n",
    "\n",
    "\n",
    "#data = ff.proc_cand_fil(fil_file, dm, width, nfreq_plot=64, ndm=64)[0]\n",
    "#data_t = data.mean(0)\n",
    "\n",
    "logging_format = \"%(asctime)s - %(funcName)s -%(name)s - %(levelname)s - %(message)s\"\n",
    "logging.basicConfig(\n",
    "    level=logging.INFO,\n",
    "    format=logging_format,\n",
    ")\n",
    "# create burst object \n",
    "bd = BurstData(\n",
    "    fp=fil_file,\n",
    "    dm=dm_heimdall ,\n",
    "    tcand=0.5, # pulse starting time in s.\n",
    "    width=width_heimdall,  \n",
    "    snr=snr_heimdall\n",
    ")\n",
    "\n",
    "bd.prepare_data()\n",
    "\n",
    "# number of channels after binning \n",
    "# requires each channel bin to have SNR_min \n",
    "# snr_heimdall was calculated with all 256 channels binned into one \n",
    "SNR_min = 3 \n",
    "n_per_bin = int(256. / (1.0*snr_heimdall / SNR_min)**2) \n",
    "if n_per_bin <= 1:\n",
    "    n_per_bin = 1\n",
    "elif not math.log(n_per_bin, 2).is_integer():\n",
    "    n_per_bin = 2 ** (int(np.log2(n_per_bin))+1)\n",
    "    \n",
    "nfreq = int(256 / n_per_bin) \n",
    "print(nfreq)\n",
    "\n",
    "    \n",
    "# read in and de-disperse data (takes time)\n",
    "data = ff.proc_cand_fil(fil_file, bd.dm, bd.width, nfreq_plot=nfreq, ndm=64)[0]\n",
    "# zoom in close to the burst \n",
    "data_burst = data[:,int(0.45/bd.tsamp): int(0.55/bd.tsamp)] # change to x * width \n",
    "#data_burst = data \n",
    "    \n"
   ]
  },
  {
   "cell_type": "code",
   "execution_count": 7,
   "metadata": {},
   "outputs": [
    {
     "name": "stdout",
     "output_type": "stream",
     "text": [
      "32\n",
      "['c0', 0, 0, 0, 0, 0, 0, 0, 0, 0, 0, 0, 0, 0, 0, 0, 0, 0, 0, 0, 0, 0, 0, 0, 0, 0, 0, 0, 0, 0, 0, 0]\n",
      "['c0', 'c1', 0, 0, 0, 0, 0, 0, 0, 0, 0, 0, 0, 0, 0, 0, 0, 0, 0, 0, 0, 0, 0, 0, 0, 0, 0, 0, 0, 0, 0, 0]\n",
      "['c0', 'c1', 'c2', 0, 0, 0, 0, 0, 0, 0, 0, 0, 0, 0, 0, 0, 0, 0, 0, 0, 0, 0, 0, 0, 0, 0, 0, 0, 0, 0, 0, 0]\n",
      "['c0', 'c1', 'c2', 'c3', 0, 0, 0, 0, 0, 0, 0, 0, 0, 0, 0, 0, 0, 0, 0, 0, 0, 0, 0, 0, 0, 0, 0, 0, 0, 0, 0, 0]\n",
      "['c0', 'c1', 'c2', 'c3', 'c4', 0, 0, 0, 0, 0, 0, 0, 0, 0, 0, 0, 0, 0, 0, 0, 0, 0, 0, 0, 0, 0, 0, 0, 0, 0, 0, 0]\n",
      "['c0', 'c1', 'c2', 'c3', 'c4', 'c5', 0, 0, 0, 0, 0, 0, 0, 0, 0, 0, 0, 0, 0, 0, 0, 0, 0, 0, 0, 0, 0, 0, 0, 0, 0, 0]\n",
      "['c0', 'c1', 'c2', 'c3', 'c4', 'c5', 'c6', 0, 0, 0, 0, 0, 0, 0, 0, 0, 0, 0, 0, 0, 0, 0, 0, 0, 0, 0, 0, 0, 0, 0, 0, 0]\n",
      "['c0', 'c1', 'c2', 'c3', 'c4', 'c5', 'c6', 'c7', 0, 0, 0, 0, 0, 0, 0, 0, 0, 0, 0, 0, 0, 0, 0, 0, 0, 0, 0, 0, 0, 0, 0, 0]\n",
      "['c0', 'c1', 'c2', 'c3', 'c4', 'c5', 'c6', 'c7', 'c8', 0, 0, 0, 0, 0, 0, 0, 0, 0, 0, 0, 0, 0, 0, 0, 0, 0, 0, 0, 0, 0, 0, 0]\n",
      "['c0', 'c1', 'c2', 'c3', 'c4', 'c5', 'c6', 'c7', 'c8', 'c9', 0, 0, 0, 0, 0, 0, 0, 0, 0, 0, 0, 0, 0, 0, 0, 0, 0, 0, 0, 0, 0, 0]\n",
      "['c0', 'c1', 'c2', 'c3', 'c4', 'c5', 'c6', 'c7', 'c8', 'c9', 'c10', 0, 0, 0, 0, 0, 0, 0, 0, 0, 0, 0, 0, 0, 0, 0, 0, 0, 0, 0, 0, 0]\n",
      "['c0', 'c1', 'c2', 'c3', 'c4', 'c5', 'c6', 'c7', 'c8', 'c9', 'c10', 'c11', 0, 0, 0, 0, 0, 0, 0, 0, 0, 0, 0, 0, 0, 0, 0, 0, 0, 0, 0, 0]\n",
      "['c0', 'c1', 'c2', 'c3', 'c4', 'c5', 'c6', 'c7', 'c8', 'c9', 'c10', 'c11', 'c12', 0, 0, 0, 0, 0, 0, 0, 0, 0, 0, 0, 0, 0, 0, 0, 0, 0, 0, 0]\n",
      "['c0', 'c1', 'c2', 'c3', 'c4', 'c5', 'c6', 'c7', 'c8', 'c9', 'c10', 'c11', 'c12', 'c13', 0, 0, 0, 0, 0, 0, 0, 0, 0, 0, 0, 0, 0, 0, 0, 0, 0, 0]\n",
      "['c0', 'c1', 'c2', 'c3', 'c4', 'c5', 'c6', 'c7', 'c8', 'c9', 'c10', 'c11', 'c12', 'c13', 'c14', 0, 0, 0, 0, 0, 0, 0, 0, 0, 0, 0, 0, 0, 0, 0, 0, 0]\n",
      "['c0', 'c1', 'c2', 'c3', 'c4', 'c5', 'c6', 'c7', 'c8', 'c9', 'c10', 'c11', 'c12', 'c13', 'c14', 'c15', 0, 0, 0, 0, 0, 0, 0, 0, 0, 0, 0, 0, 0, 0, 0, 0]\n",
      "['c0', 'c1', 'c2', 'c3', 'c4', 'c5', 'c6', 'c7', 'c8', 'c9', 'c10', 'c11', 'c12', 'c13', 'c14', 'c15', 'c16', 0, 0, 0, 0, 0, 0, 0, 0, 0, 0, 0, 0, 0, 0, 0]\n",
      "['c0', 'c1', 'c2', 'c3', 'c4', 'c5', 'c6', 'c7', 'c8', 'c9', 'c10', 'c11', 'c12', 'c13', 'c14', 'c15', 'c16', 'c17', 0, 0, 0, 0, 0, 0, 0, 0, 0, 0, 0, 0, 0, 0]\n",
      "['c0', 'c1', 'c2', 'c3', 'c4', 'c5', 'c6', 'c7', 'c8', 'c9', 'c10', 'c11', 'c12', 'c13', 'c14', 'c15', 'c16', 'c17', 'c18', 0, 0, 0, 0, 0, 0, 0, 0, 0, 0, 0, 0, 0]\n",
      "['c0', 'c1', 'c2', 'c3', 'c4', 'c5', 'c6', 'c7', 'c8', 'c9', 'c10', 'c11', 'c12', 'c13', 'c14', 'c15', 'c16', 'c17', 'c18', 'c19', 0, 0, 0, 0, 0, 0, 0, 0, 0, 0, 0, 0]\n",
      "['c0', 'c1', 'c2', 'c3', 'c4', 'c5', 'c6', 'c7', 'c8', 'c9', 'c10', 'c11', 'c12', 'c13', 'c14', 'c15', 'c16', 'c17', 'c18', 'c19', 'c20', 0, 0, 0, 0, 0, 0, 0, 0, 0, 0, 0]\n",
      "['c0', 'c1', 'c2', 'c3', 'c4', 'c5', 'c6', 'c7', 'c8', 'c9', 'c10', 'c11', 'c12', 'c13', 'c14', 'c15', 'c16', 'c17', 'c18', 'c19', 'c20', 'c21', 0, 0, 0, 0, 0, 0, 0, 0, 0, 0]\n",
      "['c0', 'c1', 'c2', 'c3', 'c4', 'c5', 'c6', 'c7', 'c8', 'c9', 'c10', 'c11', 'c12', 'c13', 'c14', 'c15', 'c16', 'c17', 'c18', 'c19', 'c20', 'c21', 'c22', 0, 0, 0, 0, 0, 0, 0, 0, 0]\n",
      "['c0', 'c1', 'c2', 'c3', 'c4', 'c5', 'c6', 'c7', 'c8', 'c9', 'c10', 'c11', 'c12', 'c13', 'c14', 'c15', 'c16', 'c17', 'c18', 'c19', 'c20', 'c21', 'c22', 'c23', 0, 0, 0, 0, 0, 0, 0, 0]\n",
      "['c0', 'c1', 'c2', 'c3', 'c4', 'c5', 'c6', 'c7', 'c8', 'c9', 'c10', 'c11', 'c12', 'c13', 'c14', 'c15', 'c16', 'c17', 'c18', 'c19', 'c20', 'c21', 'c22', 'c23', 'c24', 0, 0, 0, 0, 0, 0, 0]\n",
      "['c0', 'c1', 'c2', 'c3', 'c4', 'c5', 'c6', 'c7', 'c8', 'c9', 'c10', 'c11', 'c12', 'c13', 'c14', 'c15', 'c16', 'c17', 'c18', 'c19', 'c20', 'c21', 'c22', 'c23', 'c24', 'c25', 0, 0, 0, 0, 0, 0]\n",
      "['c0', 'c1', 'c2', 'c3', 'c4', 'c5', 'c6', 'c7', 'c8', 'c9', 'c10', 'c11', 'c12', 'c13', 'c14', 'c15', 'c16', 'c17', 'c18', 'c19', 'c20', 'c21', 'c22', 'c23', 'c24', 'c25', 'c26', 0, 0, 0, 0, 0]\n",
      "['c0', 'c1', 'c2', 'c3', 'c4', 'c5', 'c6', 'c7', 'c8', 'c9', 'c10', 'c11', 'c12', 'c13', 'c14', 'c15', 'c16', 'c17', 'c18', 'c19', 'c20', 'c21', 'c22', 'c23', 'c24', 'c25', 'c26', 'c27', 0, 0, 0, 0]\n",
      "['c0', 'c1', 'c2', 'c3', 'c4', 'c5', 'c6', 'c7', 'c8', 'c9', 'c10', 'c11', 'c12', 'c13', 'c14', 'c15', 'c16', 'c17', 'c18', 'c19', 'c20', 'c21', 'c22', 'c23', 'c24', 'c25', 'c26', 'c27', 'c28', 0, 0, 0]\n",
      "['c0', 'c1', 'c2', 'c3', 'c4', 'c5', 'c6', 'c7', 'c8', 'c9', 'c10', 'c11', 'c12', 'c13', 'c14', 'c15', 'c16', 'c17', 'c18', 'c19', 'c20', 'c21', 'c22', 'c23', 'c24', 'c25', 'c26', 'c27', 'c28', 'c29', 0, 0]\n",
      "['c0', 'c1', 'c2', 'c3', 'c4', 'c5', 'c6', 'c7', 'c8', 'c9', 'c10', 'c11', 'c12', 'c13', 'c14', 'c15', 'c16', 'c17', 'c18', 'c19', 'c20', 'c21', 'c22', 'c23', 'c24', 'c25', 'c26', 'c27', 'c28', 'c29', 'c30', 0]\n",
      "['c0', 'c1', 'c2', 'c3', 'c4', 'c5', 'c6', 'c7', 'c8', 'c9', 'c10', 'c11', 'c12', 'c13', 'c14', 'c15', 'c16', 'c17', 'c18', 'c19', 'c20', 'c21', 'c22', 'c23', 'c24', 'c25', 'c26', 'c27', 'c28', 'c29', 'c30', 'c31']\n"
     ]
    },
    {
     "ename": "AssertionError",
     "evalue": "Length of param_names is not equal to number of input parameters of the function.",
     "output_type": "error",
     "traceback": [
      "\u001b[0;31m---------------------------------------------------------------------------\u001b[0m",
      "\u001b[0;31mAssertionError\u001b[0m                            Traceback (most recent call last)",
      "\u001b[0;32m<ipython-input-7-750c75fb45bb>\u001b[0m in \u001b[0;36m<module>\u001b[0;34m\u001b[0m\n\u001b[1;32m     19\u001b[0m     \u001b[0msnames\u001b[0m\u001b[0;34m[\u001b[0m\u001b[0mi\u001b[0m\u001b[0;34m]\u001b[0m \u001b[0;34m=\u001b[0m \u001b[0;34m'c'\u001b[0m\u001b[0;34m+\u001b[0m\u001b[0mstr\u001b[0m\u001b[0;34m(\u001b[0m\u001b[0mi\u001b[0m\u001b[0;34m)\u001b[0m\u001b[0;34m\u001b[0m\u001b[0;34m\u001b[0m\u001b[0m\n\u001b[1;32m     20\u001b[0m     \u001b[0mprint\u001b[0m\u001b[0;34m(\u001b[0m\u001b[0msnames\u001b[0m\u001b[0;34m)\u001b[0m\u001b[0;34m\u001b[0m\u001b[0;34m\u001b[0m\u001b[0m\n\u001b[0;32m---> 21\u001b[0;31m \u001b[0mspectraModel\u001b[0m \u001b[0;34m=\u001b[0m \u001b[0mModel\u001b[0m\u001b[0;34m(\u001b[0m\u001b[0mno_model\u001b[0m\u001b[0;34m,\u001b[0m \u001b[0mparam_names\u001b[0m\u001b[0;34m=\u001b[0m\u001b[0msnames\u001b[0m\u001b[0;34m)\u001b[0m\u001b[0;34m\u001b[0m\u001b[0;34m\u001b[0m\u001b[0m\n\u001b[0m\u001b[1;32m     22\u001b[0m \u001b[0;34m\u001b[0m\u001b[0m\n\u001b[1;32m     23\u001b[0m \u001b[0;34m\u001b[0m\u001b[0m\n",
      "\u001b[0;32m~/anaconda3/envs/casa/lib/python3.6/site-packages/burstfit-0.1.1-py3.6.egg/burstfit/model.py\u001b[0m in \u001b[0;36m__init__\u001b[0;34m(self, function, param_names, params)\u001b[0m\n\u001b[1;32m     27\u001b[0m             assert len(param_names) == len(\n\u001b[1;32m     28\u001b[0m                 \u001b[0mself\u001b[0m\u001b[0;34m.\u001b[0m\u001b[0mfunction_input_names\u001b[0m\u001b[0;34m\u001b[0m\u001b[0;34m\u001b[0m\u001b[0m\n\u001b[0;32m---> 29\u001b[0;31m             ), \"Length of param_names is not equal to number of input parameters of the function.\"\n\u001b[0m\u001b[1;32m     30\u001b[0m             \u001b[0mself\u001b[0m\u001b[0;34m.\u001b[0m\u001b[0mparam_names\u001b[0m \u001b[0;34m=\u001b[0m \u001b[0mparam_names\u001b[0m\u001b[0;34m\u001b[0m\u001b[0;34m\u001b[0m\u001b[0m\n\u001b[1;32m     31\u001b[0m         \u001b[0mself\u001b[0m\u001b[0;34m.\u001b[0m\u001b[0mparams\u001b[0m \u001b[0;34m=\u001b[0m \u001b[0mparams\u001b[0m\u001b[0;34m\u001b[0m\u001b[0;34m\u001b[0m\u001b[0m\n",
      "\u001b[0;31mAssertionError\u001b[0m: Length of param_names is not equal to number of input parameters of the function."
     ]
    }
   ],
   "source": [
    "# bf1: gaussian + scattering + model-free spectrum \n",
    "\n",
    "#fit models  \n",
    "# For pulse, we will use a gaussian convolved with an exponential model \n",
    "# S: Area of the pulse (fluence)\n",
    "# mu: means of gaussians for each channel\n",
    "# sigma: sigma of gaussian\n",
    "# tau: scattering timescale for each channel\n",
    "pnames = ['S', 'mu_t', 'sigma_t', 'tau']\n",
    "pulseModel = Model(pulse_fn_vec, param_names=pnames)\n",
    "\n",
    "\n",
    "print(nfreq)\n",
    "# For spectrum, try model-free  \n",
    "nfreq_model = nfreq # try less \n",
    "snames = [0] * nfreq_model\n",
    "\n",
    "for i in range(nfreq_model):\n",
    "    snames[i] = 'c'+str(i)\n",
    "    print(snames)\n",
    "spectraModel = Model(no_model, param_names=snames)\n",
    "\n",
    "\n",
    "\n",
    "\n",
    "sgram_mask = np.full(np.shape(data_burst), False)\n",
    "#sgramModel = SgramModel(pulseModel, spectraModel, sgram_fn_vec, \n",
    "#                        mask=sgram_mask, clip_fac=bd.clip_fac, other_param_names=[\"DM\"])\n",
    "\n",
    "sgramModel = SgramModel(pulseModel, spectraModel, sgram_fn, \n",
    "                        mask=sgram_mask, clip_fac=bd.clip_fac)#, other_param_names=[\"DM\"])\n",
    "\n",
    "#sgram_bounds=((0, 0.45, 0, -np.inf),(np.inf, 0.55, np.inf, np.inf)) # did not work when only set up bounds but do not chop data \n",
    "\n",
    "# Provide basic candidate information to `BurstFit`: sgram, model, DM, width, RFI mask, etc \n",
    "# initial fit: use heimdall results \n",
    "# rename bf for later model selection \n",
    "bf = BurstFit(\n",
    "    sgram_model=sgramModel,\n",
    "    sgram=data_burst, \n",
    "    width=width_heimdall,\n",
    "    dm=dm_heimdall,\n",
    "    foff=bd.foff * 1024 / nfreq,\n",
    "    fch1=bd.fch1,\n",
    "    tsamp=bd.tsamp,\n",
    "    clip_fac=bd.clip_fac,\n",
    "    mask= sgram_mask, \n",
    "    mcmcfit=False\n",
    ")\n",
    "\n",
    "print('bf.ncomponents=%d'%bf.ncomponents)\n",
    "print(data_burst)\n",
    "\n",
    "# Some setting up before we do the fitting \n",
    "bf.validate()\n",
    "bf.precalc()\n",
    "\n",
    "bf.fitcycle(plot=True)\n",
    "# fit all componnts \n",
    "bf.fitall(plot=True) \n",
    "bf.calc_redchisq()\n",
    "plot_fit_results(bf.sgram, bf.sgram_model.evaluate, bf.sgram_params['all'][1]['popt'], \n",
    "                 bf.tsamp, bf.fch1, bf.foff, show=True, save=True, outname=save_name+'2d_fit_res_curvfit', outdir=save_dir)\n",
    "#dm_fit, dm_fit_err = bf.sgram_params['all'][1]['popt'][-1], bf.sgram_params['all'][1]['perr'][-1]\n",
    "\n",
    "bf.sgram_params"
   ]
  },
  {
   "cell_type": "code",
   "execution_count": null,
   "metadata": {},
   "outputs": [],
   "source": [
    "# bf.sgram_params\n",
    "# plot_me(bf.model[:,int(382/2-30): int(382/2+30)]) \n",
    "# bd.tsamp*3*1e3\n",
    "\n",
    "# dm_diff = 103.46597098341815 - 103\n",
    "# print('expected despersion in tsamp: %.1f time samples'%(4.149e3*dm_diff*(1/1280**2 - 1/1530**2) / bd.tsamp)) \n",
    "\n",
    "# plot_me(bf.model)\n",
    "\n",
    "# bf.sgram_params\n",
    "\n",
    "# sgramModel.nparams\n"
   ]
  },
  {
   "cell_type": "code",
   "execution_count": null,
   "metadata": {},
   "outputs": [],
   "source": [
    "# pnames = ['S', 'mu_t', 'sigma_t', 'tau']\n",
    "# pulseModel = Model(pulse_fn_vec, param_names=pnames)\n",
    "\n",
    "# # For spectra, we will use a normalized gaussian model  \n",
    "# snames = ['mu_f', 'sigma_f']\n",
    "# spectraModel = Model(gauss_norm, param_names=snames)\n",
    "\n",
    "\n",
    "# sgram_mask = np.full(np.shape(data_burst), False)\n",
    "# #sgramModel = SgramModel(pulseModel, spectraModel, sgram_fn_vec, \n",
    "# #                        mask=sgram_mask, clip_fac=bd.clip_fac, other_param_names=[\"DM\"])\n",
    "\n",
    "# sgramModel = SgramModel(pulseModel, spectraModel, sgram_fn, \n",
    "#                         mask=sgram_mask, clip_fac=bd.clip_fac)#, other_param_names=[\"DM\"])\n",
    "\n",
    "\n",
    "# bf = BurstFit(\n",
    "#     sgram_model=sgramModel,\n",
    "#     sgram=data_burst, \n",
    "#     width=width_heimdall,\n",
    "#     dm=dm_heimdall,\n",
    "#     foff=bd.foff * 1024 / nfreq,\n",
    "#     fch1=bd.fch1,\n",
    "#     tsamp=bd.tsamp,\n",
    "#     clip_fac=bd.clip_fac,\n",
    "#     mask= sgram_mask, \n",
    "#     mcmcfit=False\n",
    "# )\n",
    "\n",
    "# print(np.shape(data_burst))\n",
    "\n",
    "# # Some setting up before we do the fitting \n",
    "# bf.validate()\n",
    "# bf.precalc()\n",
    "# print('bf.ncomponents=%d'%bf.ncomponents)\n"
   ]
  },
  {
   "cell_type": "code",
   "execution_count": null,
   "metadata": {},
   "outputs": [],
   "source": [
    "# bf.fitcycle(plot=False)\n",
    "# print('bf.ncomponents=%d'%bf.ncomponents)\n",
    "\n",
    "# # fit all componnts \n",
    "# bf.fitall(plot=False) \n",
    "# print('bf.ncomponents=%d'%bf.ncomponents)\n",
    "\n",
    "# bf.sgram_params"
   ]
  },
  {
   "cell_type": "code",
   "execution_count": null,
   "metadata": {},
   "outputs": [],
   "source": [
    "# MCMC \n",
    "# nwalker >= dimention + 1 \n",
    "# nstep until getting smooth parameter distributions \n",
    "mcmc_kwargs = {}\n",
    "mcmc_kwargs = {'nwalkers':60, 'nsteps':int(1e4),\n",
    "           'skip':500, 'ncores':4, \n",
    "           'start_pos_dev':0.01,\n",
    "           'prior_range':0.8, \n",
    "           'save_results':True,\n",
    "           'outname':'test_file'}\n",
    "\n",
    "bf.run_mcmc(plot=True, **mcmc_kwargs)\n",
    "\n"
   ]
  },
  {
   "cell_type": "code",
   "execution_count": null,
   "metadata": {},
   "outputs": [],
   "source": [
    "# save fitting results \n",
    "bd.prepare_data()\n",
    "bio = BurstIO(bf, bd)\n",
    "d = bio.save_results(outname=save_name+\"_fit_results.json\", outdir=save_dir)  \n",
    "print(d['param_names'])"
   ]
  },
  {
   "cell_type": "code",
   "execution_count": null,
   "metadata": {},
   "outputs": [],
   "source": [
    "# do not delete this cell. \n",
    "# fit again using the new DM result dm_fit\n",
    "# data, datadm, tsdm0, dms, datadm0 = ff.proc_cand_fil(fil_file, dm_fit, bd.width, nfreq_plot=nfreq, ndm=32)\n",
    "# data_burst = data[:,int(0.45/bd.tsamp): int(0.55/bd.tsamp)]\n",
    "# bf.sgram = data_burst\n",
    "# bf.dm = dm_fit\n",
    "# bd.dm = dm_fit \n",
    "\n",
    "# plt.plot(range(len(data_burst.mean(0))), data_burst.mean(0))\n",
    "# plt.xlabel('Time Sample using new DM')\n",
    "\n",
    "# bf.fitall(plot=False)\n",
    "# plot_fit_results(bf.sgram, bf.sgram_model.evaluate, bf.sgram_params['all'][1]['popt'], \n",
    "#                  bf.tsamp, bf.fch1, bf.foff, show=True, save=True, outname=save_name+'2d_fit_res'+'_dm_burstfit', outdir=save_dir)\n"
   ]
  },
  {
   "cell_type": "code",
   "execution_count": 14,
   "metadata": {},
   "outputs": [],
   "source": [
    "# saving key burst paramters \n",
    "mu_f_mcmc, sigma_f_mcmc, s_mcmc, mu_t_mcmc, sigma_t_mcmc, tau_mcmc, dm_mcmc = bf.mcmc_params[1]['popt']\n",
    "mu_f_mcmc_err, sigma_f_mcmc_err, s_mcmc_err, mu_t_mcmc_err, sigma_t_mcmc_err, tau_mcmc_err, dm_mcmc_err = bf.mcmc_params[1]['perr']\n",
    "\n",
    "t0 = 0.45 + mu_t_mcmc * bd.tsamp\n",
    "t0_err = [i * bd.tsamp for i in mu_t_mcmc_err] \n",
    "\n",
    "width_ms = sigma_t_mcmc * bd.tsamp * 1e3 # in ms\n",
    "width_ms_err = [i * bd.tsamp for i in sigma_t_mcmc_err] \n",
    "\n",
    "# with open(save_dir+save_name+\"_fit_key_results.txt\") as f:\n",
    "#     print('mu_f_mcmc, sigma_f_mcmc, s_mcmc, mu_t_mcmc, sigma_t_mcmc, tau_mcmc, dm_mcmc')\n",
    "#     print(bf.mcmc_params[1]['popt'])\n",
    "#     print('lower, upper bounds')\n",
    "#     print(bf.mcmc_params[1]['perr'])\n",
    "\n",
    "#outname=save_name+\"_fit_results.json\", outdir=save_dir"
   ]
  },
  {
   "cell_type": "code",
   "execution_count": 15,
   "metadata": {},
   "outputs": [
    {
     "name": "stderr",
     "output_type": "stream",
     "text": [
      "2022-01-24 18:12:09,946 - model -burstfit.fit - INFO - Making model.\n",
      "2022-01-24 18:12:09,949 - model -burstfit.fit - INFO - Found 1 components.\n"
     ]
    }
   ],
   "source": [
    "rms_res = np.sqrt(sum(bf.residual.mean(0)**2) / len(bf.residual.mean(0)))\n",
    "\n",
    "rms_res = np.sqrt(sum(data.mean(0)**2) / len(data.mean(0)))\n",
    "\n",
    "snr_mcmc = max(bf.model.mean(0)) / rms_res * np.sqrt(bf.width)"
   ]
  },
  {
   "cell_type": "code",
   "execution_count": 18,
   "metadata": {},
   "outputs": [],
   "source": [
    "data_mcmc_dm = ff.proc_cand_fil(fil_file, dm_mcmc, sigma_f_mcmc, nfreq_plot=nfreq, ndm=32)[0]"
   ]
  },
  {
   "cell_type": "code",
   "execution_count": 20,
   "metadata": {},
   "outputs": [
    {
     "data": {
      "image/png": "[encoded data removed]",
      "text/plain": [
       "<Figure size 432x288 with 2 Axes>"
      ]
     },
     "metadata": {
      "needs_background": "light"
     },
     "output_type": "display_data"
    }
   ],
   "source": [
    "fig, ax = plt.subplots(2, 1, sharex=True)\n",
    "ax[0].plot(range(len(data.mean(0)[int(0.48/bd.tsamp): int(0.52/bd.tsamp)])), data.mean(0)[int(0.48/bd.tsamp): int(0.52/bd.tsamp)])\n",
    "ax[0].set_title('Using heimdall DM: SNR=%d?'%bd.snr)\n",
    "\n",
    "ax[1].plot(range(len(data_mcmc_dm.mean(0)[int(0.48/bd.tsamp): int(0.52/bd.tsamp)])), data_mcmc_dm.mean(0)[int(0.48/bd.tsamp): int(0.52/bd.tsamp)])\n",
    "ax[1].set_xlabel('Time Sample')\n",
    "ax[1].set_title('Using burstfit DM: SNR=')\n",
    "fig.savefig(save_name + 'burst.pdf')"
   ]
  },
  {
   "cell_type": "code",
   "execution_count": 21,
   "metadata": {},
   "outputs": [
    {
     "data": {
      "text/plain": [
       "{1: {'popt': [4.708031244884689,\n",
       "   1.85280016354413,\n",
       "   90.85737756644824,\n",
       "   187.8991723270993,\n",
       "   0.9567291488430655,\n",
       "   2.2145336012418158,\n",
       "   314.0674867854782],\n",
       "  'perr': [[0.24465106023286687, 0.24250744080276831],\n",
       "   [0.2512486159717484, 0.3158300338000739],\n",
       "   [12.792131298028593, 14.462276833939455],\n",
       "   [1.0983315792561825, 1.2984426080577691],\n",
       "   [0.5072899812359954, 0.6281460277956125],\n",
       "   [0.7524568552423347, 0.6960233914243763],\n",
       "   [0.7112840495276487, 0.6506028843043623]]}}"
      ]
     },
     "execution_count": 21,
     "metadata": {},
     "output_type": "execute_result"
    }
   ],
   "source": [
    "bf.mcmc_params"
   ]
  },
  {
   "cell_type": "code",
   "execution_count": 22,
   "metadata": {},
   "outputs": [
    {
     "data": {
      "text/plain": [
       "382"
      ]
     },
     "execution_count": 22,
     "metadata": {},
     "output_type": "execute_result"
    }
   ],
   "source": [
    "len(data_burst.mean(0))"
   ]
  },
  {
   "cell_type": "code",
   "execution_count": null,
   "metadata": {},
   "outputs": [],
   "source": []
  }
 ],
 "metadata": {
  "kernelspec": {
   "display_name": "casa",
   "language": "python",
   "name": "casa"
  },
  "language_info": {
   "codemirror_mode": {
    "name": "ipython",
    "version": 3
   },
   "file_extension": ".py",
   "mimetype": "text/x-python",
   "name": "python",
   "nbconvert_exporter": "python",
   "pygments_lexer": "ipython3",
   "version": "3.6.10"
  }
 },
 "nbformat": 4,
 "nbformat_minor": 2
}
